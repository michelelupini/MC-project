{
 "cells": [
  {
   "cell_type": "code",
   "execution_count": 1,
   "metadata": {},
   "outputs": [],
   "source": [
    "%load_ext autoreload\n",
    "%autoreload 2\n",
    "\n",
    "import numpy as np\n",
    "import random\n",
    "from scipy.stats import norm\n",
    "import concurrent.futures\n",
    "from run_experiments import * \n",
    "import matplotlib.pyplot as plt"
   ]
  },
  {
   "cell_type": "markdown",
   "metadata": {},
   "source": [
    "# Question 1"
   ]
  },
  {
   "cell_type": "code",
   "execution_count": 2,
   "metadata": {},
   "outputs": [],
   "source": [
    "# init parameters, same for question 1 and 2\n",
    "m = 2000\n",
    "d = 2000\n",
    "s = d/100\n",
    "iterations = 100*d"
   ]
  },
  {
   "cell_type": "code",
   "execution_count": 3,
   "metadata": {},
   "outputs": [
    {
     "data": {
      "text/plain": [
       "[<matplotlib.lines.Line2D at 0x7fe07edbe080>]"
      ]
     },
     "execution_count": 3,
     "metadata": {},
     "output_type": "execute_result"
    },
    {
     "data": {
      "image/png": "[encoded data removed]",
      "text/plain": [
       "<Figure size 432x288 with 1 Axes>"
      ]
     },
     "metadata": {
      "needs_background": "light"
     },
     "output_type": "display_data"
    }
   ],
   "source": [
    "# check everything is working \n",
    "beta = 10\n",
    "run_exp = RunExperiment(beta, m, d, s)\n",
    "plt.plot(run_exp.get_sampling_losses(iterations))"
   ]
  },
  {
   "cell_type": "code",
   "execution_count": 42,
   "metadata": {},
   "outputs": [
    {
     "name": "stdout",
     "output_type": "stream",
     "text": [
      "beta= 10\n",
      "beta= 20\n",
      "beta= 30\n",
      "beta= 50\n",
      "beta= 80\n",
      "beta= 100\n",
      "beta= 200\n",
      "beta= 500\n",
      "beta= 1000\n",
      "beta= 10 n_iterations= 39986.2 0.0\n"
     ]
    }
   ],
   "source": [
    "# start by running by repeating only once (just to get a general idea), then for fine-graining increase\n",
    "best_beta = 0\n",
    "best_loss = math.inf\n",
    "best_iterations = math.inf\n",
    "\n",
    "for beta in [3, 5, 10, 20, 50, 100]: \n",
    "    print('beta=', beta)\n",
    "    loss, n_iterations = run_multiple_experiments(10, beta, m, d, s, fixed_ones=False, sign=False, iterations = iterations)\n",
    "\n",
    "    if loss <= best_loss and n_iterations <= best_iterations: \n",
    "        best_beta = beta\n",
    "        best_loss = loss\n",
    "        best_iterations = n_iterations\n",
    "\n",
    "print('beta=', best_beta, 'n_iterations=',best_iterations, best_loss)"
   ]
  },
  {
   "cell_type": "code",
   "execution_count": 62,
   "metadata": {},
   "outputs": [
    {
     "data": {
      "text/plain": [
       "[<matplotlib.lines.Line2D at 0x7fd9f99d0430>]"
      ]
     },
     "execution_count": 62,
     "metadata": {},
     "output_type": "execute_result"
    },
    {
     "data": {
      "image/png": "[encoded data removed]",
      "text/plain": [
       "<Figure size 432x288 with 1 Axes>"
      ]
     },
     "metadata": {
      "needs_background": "light"
     },
     "output_type": "display_data"
    }
   ],
   "source": [
    "run_exp = RunExperiment(5, m, d, s, fixed_ones=True)\n",
    "res = run_exp.get_sampling_losses(100000, change_beta_every= 5000, update_beta=lambda x : x * 1.4)\n",
    "plt.plot(res, label = 'beta=100')"
   ]
  },
  {
   "cell_type": "code",
   "execution_count": 74,
   "metadata": {},
   "outputs": [
    {
     "name": "stdout",
     "output_type": "stream",
     "text": [
      "{'beta_start': 0.01, 'increase_every': 2, 'multiplicative_increase': 1.00001} required_iterations 40314.2\n"
     ]
    },
    {
     "name": "stderr",
     "output_type": "stream",
     "text": [
      "/home/stefano/Documents/EPFL/MC/MC-project/run_experiments.py:86: RuntimeWarning: overflow encountered in exp\n",
      "  comp = np.exp(-self.beta * (new_noise - old_noise))\n",
      "/home/stefano/Documents/EPFL/MC/MC-project/run_experiments.py:86: RuntimeWarning: overflow encountered in double_scalars\n",
      "  comp = np.exp(-self.beta * (new_noise - old_noise))\n"
     ]
    },
    {
     "name": "stdout",
     "output_type": "stream",
     "text": [
      "{'beta_start': 0.01, 'increase_every': 10, 'multiplicative_increase': 1.00001} required_iterations 36663.0\n",
      "{'beta_start': 1, 'increase_every': 2, 'multiplicative_increase': 1.00001} required_iterations 36555.8\n",
      "{'beta_start': 10, 'increase_every': 1500, 'multiplicative_increase': 1.00001} required_iterations 36404.2\n",
      "0.0 36404.2\n",
      "{'beta_start': 10, 'increase_every': 1500, 'multiplicative_increase': 1.00001}\n"
     ]
    }
   ],
   "source": [
    "# start by running by repeating only once (just to get a general idea), then for fine-graining increase\n",
    "# searching for best beta and simulation technique\n",
    "best_mse = math.inf\n",
    "best_n_iterations = math.inf\n",
    "best_params = None\n",
    "\n",
    "repeat_experiment_n = 1\n",
    "for beta_start in [0.01, 0.05, 0.1, 0.5, 1, 5, 10]: \n",
    "    for increse_every in [2, 5, 10, 100, 1000, 1500, 2000, 3000]: \n",
    "        for multiplicative_increase in [1.00001,1.0001, 1.0005, 1.001, 1.01, 1.1, 1.2, 1.3]:\n",
    "            mse, required_iterations = run_multiple_experiments(5, beta, m, d, s, fixed_ones=False, sign=False, iterations = iterations, change_beta_every= increse_every, update_beta=lambda x : x * multiplicative_increase)\n",
    "            # mse, required_iterations = run_multiple_experiments(repeat_experiment_n, get_simulation_annealing_losses, iterations, beta_start, m, d, increse_every, lambda x : x * multiplicative_increase)\n",
    "            if mse <= best_mse and required_iterations <= best_n_iterations: \n",
    "                best_mse = mse\n",
    "                best_n_iterations = required_iterations\n",
    "                best_params_and_scores = {'beta_start': beta_start, 'increase_every': increse_every, 'multiplicative_increase' : multiplicative_increase}\n",
    "                print(best_params_and_scores, 'required_iterations', required_iterations)\n",
    "\n",
    "print(best_mse, best_n_iterations)\n",
    "print(best_params_and_scores)"
   ]
  },
  {
   "cell_type": "code",
   "execution_count": null,
   "metadata": {},
   "outputs": [],
   "source": [
    "/home/stefano/Documents/EPFL/MC/MC-project/run_experiments.py:86: RuntimeWarning: overflow encountered in exp\n",
    "  comp = np.exp(-self.beta * (new_noise - old_noise))\n",
    "{'beta_start': 0.1, 'increase_every': 5, 'multiplicative_increase': 1.0001} required_iterations 44933.8\n",
    "{'beta_start': 0.1, 'increase_every': 5, 'multiplicative_increase': 1.0005} required_iterations 41954.2\n",
    "/home/stefano/Documents/EPFL/MC/MC-project/run_experiments.py:86: RuntimeWarning: overflow encountered in double_scalars\n",
    "  comp = np.exp(-self.beta * (new_noise - old_noise))\n",
    "{'beta_start': 0.1, 'increase_every': 5, 'multiplicative_increase': 1.1} required_iterations 41832.8\n",
    "{'beta_start': 0.1, 'increase_every': 100, 'multiplicative_increase': 1.001} required_iterations 40837.6\n",
    "{'beta_start': 0.1, 'increase_every': 100, 'multiplicative_increase': 1.1} required_iterations 39306.4\n",
    "{'beta_start': 0.5, 'increase_every': 10, 'multiplicative_increase': 1.2} required_iterations 38112.8\n",
    "{'beta_start': 5, 'increase_every': 1000, 'multiplicative_increase': 1.0001} required_iterations 37417.0\n",
    "0.0 37417.0\n",
    "{'beta_start': 5, 'increase_every': 1000, 'multiplicative_increase': 1.0001}"
   ]
  },
  {
   "cell_type": "code",
   "execution_count": 13,
   "metadata": {},
   "outputs": [
    {
     "name": "stdout",
     "output_type": "stream",
     "text": [
      "running MC for m=250\n"
     ]
    },
    {
     "ename": "KeyboardInterrupt",
     "evalue": "",
     "output_type": "error",
     "traceback": [
      "\u001b[0;31m---------------------------------------------------------------------------\u001b[0m",
      "\u001b[0;31mKeyboardInterrupt\u001b[0m                         Traceback (most recent call last)",
      "\u001b[1;32m/home/stefano/Documents/EPFL/projects/MC_project/new_main.ipynb Cell 9\u001b[0m line \u001b[0;36m1\n\u001b[1;32m      <a href='vscode-notebook-cell:/home/stefano/Documents/EPFL/projects/MC_project/new_main.ipynb#X11sZmlsZQ%3D%3D?line=7'>8</a>\u001b[0m increase_every \u001b[39m=\u001b[39m \u001b[39m1500\u001b[39m\n\u001b[1;32m      <a href='vscode-notebook-cell:/home/stefano/Documents/EPFL/projects/MC_project/new_main.ipynb#X11sZmlsZQ%3D%3D?line=8'>9</a>\u001b[0m multiplicative_increase \u001b[39m=\u001b[39m  \u001b[39m1.00001\u001b[39m\n\u001b[0;32m---> <a href='vscode-notebook-cell:/home/stefano/Documents/EPFL/projects/MC_project/new_main.ipynb#X11sZmlsZQ%3D%3D?line=9'>10</a>\u001b[0m mse, n_iterations \u001b[39m=\u001b[39m run_multiple_experiments(\u001b[39m1\u001b[39;49m, beta, m_value, d, s, fixed_ones\u001b[39m=\u001b[39;49m\u001b[39mFalse\u001b[39;49;00m, sign\u001b[39m=\u001b[39;49m\u001b[39mFalse\u001b[39;49;00m, iterations \u001b[39m=\u001b[39;49m iterations, change_beta_every\u001b[39m=\u001b[39;49m increase_every, update_beta\u001b[39m=\u001b[39;49m\u001b[39mlambda\u001b[39;49;00m x : x \u001b[39m*\u001b[39;49m multiplicative_increase)\n\u001b[1;32m     <a href='vscode-notebook-cell:/home/stefano/Documents/EPFL/projects/MC_project/new_main.ipynb#X11sZmlsZQ%3D%3D?line=10'>11</a>\u001b[0m \u001b[39mprint\u001b[39m(n_iterations)\n\u001b[1;32m     <a href='vscode-notebook-cell:/home/stefano/Documents/EPFL/projects/MC_project/new_main.ipynb#X11sZmlsZQ%3D%3D?line=11'>12</a>\u001b[0m losses_with_different_m\u001b[39m.\u001b[39mappend(mse)\n",
      "File \u001b[0;32m~/Documents/EPFL/projects/MC_project/run_experiments.py:114\u001b[0m, in \u001b[0;36mrun_multiple_experiments\u001b[0;34m(repeat_n_times, beta, m, d, s, fixed_ones, sign, **args)\u001b[0m\n\u001b[1;32m    112\u001b[0m \u001b[39mfor\u001b[39;00m i \u001b[39min\u001b[39;00m \u001b[39mrange\u001b[39m(repeat_n_times): \n\u001b[1;32m    113\u001b[0m     run_exp \u001b[39m=\u001b[39m RunExperiment(beta, m, d, s, fixed_ones, sign)\n\u001b[0;32m--> 114\u001b[0m     errors \u001b[39m=\u001b[39m run_exp\u001b[39m.\u001b[39;49mget_sampling_losses(\u001b[39m*\u001b[39;49m\u001b[39m*\u001b[39;49margs)\n\u001b[1;32m    115\u001b[0m     list_errors\u001b[39m.\u001b[39mappend(errors[\u001b[39m-\u001b[39m\u001b[39m1\u001b[39m])\n\u001b[1;32m    116\u001b[0m     steps_to_converge\u001b[39m.\u001b[39mappend(\u001b[39mlen\u001b[39m(errors))\n",
      "File \u001b[0;32m~/Documents/EPFL/projects/MC_project/run_experiments.py:84\u001b[0m, in \u001b[0;36mRunExperiment.get_sampling_losses\u001b[0;34m(self, iterations, change_beta_every, update_beta)\u001b[0m\n\u001b[1;32m     81\u001b[0m theta1 \u001b[39m=\u001b[39m \u001b[39mself\u001b[39m\u001b[39m.\u001b[39mchange_state(theta)\n\u001b[1;32m     83\u001b[0m residual, old_noise \u001b[39m=\u001b[39m \u001b[39mself\u001b[39m\u001b[39m.\u001b[39mcompute_noise(theta)\n\u001b[0;32m---> 84\u001b[0m residual, new_noise \u001b[39m=\u001b[39m \u001b[39mself\u001b[39;49m\u001b[39m.\u001b[39;49mcompute_noise(theta1)\n\u001b[1;32m     86\u001b[0m comp \u001b[39m=\u001b[39m np\u001b[39m.\u001b[39mexp(\u001b[39m-\u001b[39m\u001b[39mself\u001b[39m\u001b[39m.\u001b[39mbeta \u001b[39m*\u001b[39m (new_noise \u001b[39m-\u001b[39m old_noise))\n\u001b[1;32m     87\u001b[0m acceptance \u001b[39m=\u001b[39m \u001b[39mmin\u001b[39m(\u001b[39m1\u001b[39m, comp)\n",
      "File \u001b[0;32m~/Documents/EPFL/projects/MC_project/compute_noise.py:48\u001b[0m, in \u001b[0;36mNoiseComputer.compute_noise\u001b[0;34m(self, new_theta)\u001b[0m\n\u001b[1;32m     47\u001b[0m \u001b[39mdef\u001b[39;00m \u001b[39mcompute_noise\u001b[39m(\u001b[39mself\u001b[39m, new_theta): \n\u001b[0;32m---> 48\u001b[0m     new_residual \u001b[39m=\u001b[39m \u001b[39mself\u001b[39;49m\u001b[39m.\u001b[39;49mcompute_residual(new_theta)\n\u001b[1;32m     49\u001b[0m     \u001b[39m# print(new_residual)\u001b[39;00m\n\u001b[1;32m     50\u001b[0m     \u001b[39mreturn\u001b[39;00m new_residual, (new_residual\u001b[39m*\u001b[39m\u001b[39m*\u001b[39m\u001b[39m2\u001b[39m)\u001b[39m.\u001b[39mmean()\n",
      "File \u001b[0;32m~/Documents/EPFL/projects/MC_project/compute_noise.py:30\u001b[0m, in \u001b[0;36mNoiseComputer.compute_residual\u001b[0;34m(self, new_theta, fixed_ones, sign)\u001b[0m\n\u001b[1;32m     28\u001b[0m \u001b[39m# element that became 0 will have -1 the one that became one will have +1 \u001b[39;00m\n\u001b[1;32m     29\u001b[0m difference \u001b[39m=\u001b[39m \u001b[39mself\u001b[39m\u001b[39m.\u001b[39mtheta \u001b[39m-\u001b[39m new_theta\n\u001b[0;32m---> 30\u001b[0m indices \u001b[39m=\u001b[39m np\u001b[39m.\u001b[39;49mnonzero(difference)\n\u001b[1;32m     32\u001b[0m update_residual \u001b[39m=\u001b[39m np\u001b[39m.\u001b[39msqueeze(\u001b[39mself\u001b[39m\u001b[39m.\u001b[39mX[:, indices[\u001b[39m0\u001b[39m]]  \u001b[39m*\u001b[39m difference[indices[\u001b[39m0\u001b[39m]][\u001b[39m0\u001b[39m])\n\u001b[1;32m     33\u001b[0m \u001b[39m# \u001b[39;00m\n",
      "File \u001b[0;32m~/.local/lib/python3.10/site-packages/numpy/core/fromnumeric.py:1973\u001b[0m, in \u001b[0;36mnonzero\u001b[0;34m(a)\u001b[0m\n\u001b[1;32m   1881\u001b[0m \u001b[39m@array_function_dispatch\u001b[39m(_nonzero_dispatcher)\n\u001b[1;32m   1882\u001b[0m \u001b[39mdef\u001b[39;00m \u001b[39mnonzero\u001b[39m(a):\n\u001b[1;32m   1883\u001b[0m \u001b[39m    \u001b[39m\u001b[39m\"\"\"\u001b[39;00m\n\u001b[1;32m   1884\u001b[0m \u001b[39m    Return the indices of the elements that are non-zero.\u001b[39;00m\n\u001b[1;32m   1885\u001b[0m \n\u001b[0;32m   (...)\u001b[0m\n\u001b[1;32m   1971\u001b[0m \n\u001b[1;32m   1972\u001b[0m \u001b[39m    \"\"\"\u001b[39;00m\n\u001b[0;32m-> 1973\u001b[0m     \u001b[39mreturn\u001b[39;00m _wrapfunc(a, \u001b[39m'\u001b[39;49m\u001b[39mnonzero\u001b[39;49m\u001b[39m'\u001b[39;49m)\n",
      "File \u001b[0;32m~/.local/lib/python3.10/site-packages/numpy/core/fromnumeric.py:59\u001b[0m, in \u001b[0;36m_wrapfunc\u001b[0;34m(obj, method, *args, **kwds)\u001b[0m\n\u001b[1;32m     56\u001b[0m     \u001b[39mreturn\u001b[39;00m _wrapit(obj, method, \u001b[39m*\u001b[39margs, \u001b[39m*\u001b[39m\u001b[39m*\u001b[39mkwds)\n\u001b[1;32m     58\u001b[0m \u001b[39mtry\u001b[39;00m:\n\u001b[0;32m---> 59\u001b[0m     \u001b[39mreturn\u001b[39;00m bound(\u001b[39m*\u001b[39;49margs, \u001b[39m*\u001b[39;49m\u001b[39m*\u001b[39;49mkwds)\n\u001b[1;32m     60\u001b[0m \u001b[39mexcept\u001b[39;00m \u001b[39mTypeError\u001b[39;00m:\n\u001b[1;32m     61\u001b[0m     \u001b[39m# A TypeError occurs if the object does have such a method in its\u001b[39;00m\n\u001b[1;32m     62\u001b[0m     \u001b[39m# class, but its signature is not identical to that of NumPy's. This\u001b[39;00m\n\u001b[0;32m   (...)\u001b[0m\n\u001b[1;32m     66\u001b[0m     \u001b[39m# Call _wrapit from within the except clause to ensure a potential\u001b[39;00m\n\u001b[1;32m     67\u001b[0m     \u001b[39m# exception has a traceback chain.\u001b[39;00m\n\u001b[1;32m     68\u001b[0m     \u001b[39mreturn\u001b[39;00m _wrapit(obj, method, \u001b[39m*\u001b[39margs, \u001b[39m*\u001b[39m\u001b[39m*\u001b[39mkwds)\n",
      "\u001b[0;31mKeyboardInterrupt\u001b[0m: "
     ]
    }
   ],
   "source": [
    "losses_with_different_m = []\n",
    "m_values = np.arange(250 , 2250, 250)\n",
    "\n",
    "for m_value in  m_values: \n",
    "    # for the different values of m only save the last loss (after doing all the iterations)\n",
    "    print(f'running MC for m={m_value}')\n",
    "    beta =  10\n",
    "    increase_every = 1500\n",
    "    multiplicative_increase =  1.00001\n",
    "    mse, n_iterations = run_multiple_experiments(1, beta, m_value, d, s, fixed_ones=False, sign=False, iterations = iterations, change_beta_every= increase_every, update_beta=lambda x : x * multiplicative_increase)\n",
    "    print(n_iterations)\n",
    "    losses_with_different_m.append(mse)\n",
    "\n",
    "\n",
    "plt.plot(m_values, losses_with_different_m) # always changes\n",
    "plt.ylabel('MSE')\n",
    "plt.xlabel('Number of samples over dimensions (m)')\n",
    "plt.title('MSE with different number of samples m')\n",
    "plt.tight_layout()\n",
    "\n",
    "plt.savefig('img/q1_ex6_minimum_m_to_recover.jpg')\n"
   ]
  },
  {
   "cell_type": "markdown",
   "metadata": {},
   "source": [
    "# Question 2"
   ]
  },
  {
   "cell_type": "code",
   "execution_count": 97,
   "metadata": {},
   "outputs": [
    {
     "name": "stderr",
     "output_type": "stream",
     "text": [
      "/home/stefano/Documents/EPFL/MC/MC-project/run_experiments.py:86: RuntimeWarning: overflow encountered in exp\n",
      "  mse_val = self.compute_mse(theta)\n"
     ]
    },
    {
     "data": {
      "text/plain": [
       "[<matplotlib.lines.Line2D at 0x7f3cba12ff40>]"
      ]
     },
     "execution_count": 97,
     "metadata": {},
     "output_type": "execute_result"
    },
    {
     "data": {
      "image/png": "[encoded data removed]",
      "text/plain": [
       "<Figure size 432x288 with 1 Axes>"
      ]
     },
     "metadata": {
      "needs_background": "light"
     },
     "output_type": "display_data"
    }
   ],
   "source": [
    "run_exp = RunExperiment(1000, m, d, s, fixed_ones=True)\n",
    "\n",
    "plt.plot(run_exp.get_sampling_losses(100000), label = 'beta=100')"
   ]
  },
  {
   "cell_type": "code",
   "execution_count": null,
   "metadata": {},
   "outputs": [],
   "source": [
    "# start by running by repeating only once (just to get a general idea), then for fine-graining increase\n",
    "best_beta = 0\n",
    "best_loss = math.inf\n",
    "best_iterations = math.inf\n",
    "\n",
    "for beta in [10, 20, 30, 50, 80, 100, 200, 500, 1000]: \n",
    "    print('beta=', beta)\n",
    "    loss, n_iterations = run_multiple_experiments(10, beta, m, d, s, fixed_ones=True, sign=False, iterations = iterations)\n",
    "\n",
    "    if loss <= best_loss and n_iterations <= best_iterations: \n",
    "        best_beta = beta\n",
    "        best_loss = loss\n",
    "        best_iterations = n_iterations\n",
    "\n",
    "print('beta=', best_beta, 'n_iterations=',best_iterations, best_loss)"
   ]
  },
  {
   "cell_type": "code",
   "execution_count": null,
   "metadata": {},
   "outputs": [],
   "source": [
    "best_mse = math.inf\n",
    "best_n_iterations = math.inf\n",
    "best_params = None\n",
    "\n",
    "repeat_experiment_n = 1\n",
    "for beta_start in [0.01, 0.05, 0.1, 0.5, 1, 5, 10]: \n",
    "    for increse_every in [2, 5, 10, 100, 1000, 1500, 2000, 3000]: \n",
    "        for multiplicative_increase in [1.00001,1.0001, 1.0005, 1.001, 1.01, 1.1, 1.2, 1.3]:\n",
    "            mse, required_iterations = run_multiple_experiments(5, beta, m, d, s, fixed_ones=True, sign=False, iterations = iterations, change_beta_every= increse_every, update_beta=lambda x : x * multiplicative_increase)\n",
    "            # mse, required_iterations = run_multiple_experiments(repeat_experiment_n, get_simulation_annealing_losses, iterations, beta_start, m, d, increse_every, lambda x : x * multiplicative_increase)\n",
    "            if mse <= best_mse and required_iterations <= best_n_iterations: \n",
    "                best_mse = mse\n",
    "                best_n_iterations = required_iterations\n",
    "                best_params_and_scores = {'beta_start': beta_start, 'increase_every': increse_every, 'multiplicative_increase' : multiplicative_increase}\n",
    "                print(best_params_and_scores, 'required_iterations', required_iterations)\n",
    "\n",
    "print(best_mse, best_n_iterations)\n",
    "print(best_params_and_scores)"
   ]
  },
  {
   "cell_type": "code",
   "execution_count": null,
   "metadata": {},
   "outputs": [],
   "source": [
    "losses_with_different_m = []\n",
    "m_values = np.arange(250 , 2250, 250)\n",
    "\n",
    "for m_value in  m_values: \n",
    "    # for the different values of m only save the last loss (after doing all the iterations)\n",
    "    print(f'running MC for m={m_value}')\n",
    "    beta =  10\n",
    "    increase_every = 1500\n",
    "    multiplicative_increase =  1.00001\n",
    "    mse, n_iterations = run_multiple_experiments(1, beta, m_value, d, s, fixed_ones=False, sign=False, iterations = iterations, change_beta_every= increase_every, update_beta=lambda x : x * multiplicative_increase)\n",
    "    print(n_iterations)\n",
    "    losses_with_different_m.append(mse)\n",
    "\n",
    "\n",
    "plt.plot(m_values, losses_with_different_m) # always changes\n",
    "plt.ylabel('MSE')\n",
    "plt.xlabel('Number of samples over dimensions (m)')\n",
    "plt.title('MSE with different number of samples m')\n",
    "plt.tight_layout()\n",
    "\n",
    "plt.savefig('img/q1_ex6_minimum_m_to_recover.jpg')\n"
   ]
  },
  {
   "cell_type": "markdown",
   "metadata": {},
   "source": [
    "# Question 3"
   ]
  },
  {
   "cell_type": "code",
   "execution_count": 14,
   "metadata": {},
   "outputs": [
    {
     "data": {
      "text/plain": [
       "[<matplotlib.lines.Line2D at 0x7f26b92e3970>]"
      ]
     },
     "execution_count": 14,
     "metadata": {},
     "output_type": "execute_result"
    },
    {
     "data": {
      "image/png": "[encoded data removed]",
      "text/plain": [
       "<Figure size 640x480 with 1 Axes>"
      ]
     },
     "metadata": {},
     "output_type": "display_data"
    }
   ],
   "source": [
    "m3 = 100\n",
    "d3 = 500\n",
    "s3 = d3/100\n",
    "#beta = 2\n",
    "iterations3 = 100*d3\n",
    "\n",
    "run_exp = RunExperiment(1, m3, d3, s3, fixed_ones=True, sign= True)\n",
    "\n",
    "plt.plot(run_exp.get_sampling_losses(10000), label = 'beta=100')"
   ]
  },
  {
   "cell_type": "code",
   "execution_count": null,
   "metadata": {},
   "outputs": [],
   "source": [
    "# start by running by repeating only once (just to get a general idea), then for fine-graining increase\n",
    "best_beta = 0\n",
    "best_loss = math.inf\n",
    "best_iterations = math.inf\n",
    "\n",
    "for beta in [10, 20, 30, 50, 80, 100, 200, 500, 1000]: \n",
    "    print('beta=', beta)\n",
    "    loss, n_iterations = run_multiple_experiments(10, beta, m, d, s, fixed_ones=True, sign=True, iterations = iterations)\n",
    "\n",
    "    if loss <= best_loss and n_iterations <= best_iterations: \n",
    "        best_beta = beta\n",
    "        best_loss = loss\n",
    "        best_iterations = n_iterations\n",
    "\n",
    "print('beta=', best_beta, 'n_iterations=',best_iterations, best_loss)"
   ]
  },
  {
   "cell_type": "code",
   "execution_count": null,
   "metadata": {},
   "outputs": [],
   "source": [
    "best_mse = math.inf\n",
    "best_n_iterations = math.inf\n",
    "best_params = None\n",
    "\n",
    "repeat_experiment_n = 1\n",
    "for beta_start in [0.01, 0.05, 0.1, 0.5, 1, 5, 10]: \n",
    "    for increse_every in [2, 5, 10, 100, 1000, 1500, 2000, 3000]: \n",
    "        for multiplicative_increase in [1.00001,1.0001, 1.0005, 1.001, 1.01, 1.1, 1.2, 1.3]:\n",
    "            mse, required_iterations = run_multiple_experiments(5, beta, m, d, s, fixed_ones=True, sign=True, iterations = iterations, change_beta_every= increse_every, update_beta=lambda x : x * multiplicative_increase)\n",
    "            # mse, required_iterations = run_multiple_experiments(repeat_experiment_n, get_simulation_annealing_losses, iterations, beta_start, m, d, increse_every, lambda x : x * multiplicative_increase)\n",
    "            if mse <= best_mse and required_iterations <= best_n_iterations: \n",
    "                best_mse = mse\n",
    "                best_n_iterations = required_iterations\n",
    "                best_params_and_scores = {'beta_start': beta_start, 'increase_every': increse_every, 'multiplicative_increase' : multiplicative_increase}\n",
    "                print(best_params_and_scores, 'required_iterations', required_iterations)\n",
    "\n",
    "print(best_mse, best_n_iterations)\n",
    "print(best_params_and_scores)"
   ]
  },
  {
   "cell_type": "code",
   "execution_count": null,
   "metadata": {},
   "outputs": [],
   "source": [
    "losses_with_different_m = []\n",
    "m_values = np.arange(250 , 2250, 250)\n",
    "\n",
    "for m_value in  m_values: \n",
    "    # for the different values of m only save the last loss (after doing all the iterations)\n",
    "    print(f'running MC for m={m_value}')\n",
    "    beta =  10\n",
    "    increase_every = 1500\n",
    "    multiplicative_increase =  1.00001\n",
    "    mse, n_iterations = run_multiple_experiments(1, beta, m_value, d, s, fixed_ones=True, sign=theta_true, iterations = iterations, change_beta_every= increase_every, update_beta=lambda x : x * multiplicative_increase)\n",
    "    print(n_iterations)\n",
    "    losses_with_different_m.append(mse)\n",
    "\n",
    "\n",
    "plt.plot(m_values, losses_with_different_m) # always changes\n",
    "plt.ylabel('MSE')\n",
    "plt.xlabel('Number of samples over dimensions (m)')\n",
    "plt.title('MSE with different number of samples m')\n",
    "plt.tight_layout()\n",
    "\n",
    "plt.savefig('img/q1_ex6_minimum_m_to_recover.jpg')\n"
   ]
  }
 ],
 "metadata": {
  "kernelspec": {
   "display_name": "Python 3",
   "language": "python",
   "name": "python3"
  },
  "language_info": {
   "codemirror_mode": {
    "name": "ipython",
    "version": 3
   },
   "file_extension": ".py",
   "mimetype": "text/x-python",
   "name": "python",
   "nbconvert_exporter": "python",
   "pygments_lexer": "ipython3",
   "version": "3.10.12"
  }
 },
 "nbformat": 4,
 "nbformat_minor": 2
}
