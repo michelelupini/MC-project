{
 "cells": [
  {
   "cell_type": "code",
   "execution_count": 29,
   "metadata": {},
   "outputs": [
    {
     "name": "stdout",
     "output_type": "stream",
     "text": [
      "The autoreload extension is already loaded. To reload it, use:\n",
      "  %reload_ext autoreload\n"
     ]
    }
   ],
   "source": [
    "%load_ext autoreload\n",
    "%autoreload 2\n",
    "\n",
    "import numpy as np\n",
    "import random\n",
    "from scipy.stats import norm\n",
    "import concurrent.futures\n",
    "from run_experiments import * \n",
    "import matplotlib.pyplot as plt"
   ]
  },
  {
   "cell_type": "markdown",
   "metadata": {},
   "source": [
    "# Question 1"
   ]
  },
  {
   "cell_type": "code",
   "execution_count": 32,
   "metadata": {},
   "outputs": [],
   "source": [
    "# init parameters, same for question 1 and 2\n",
    "m = 2000\n",
    "d = 2000\n",
    "s = d/100\n",
    "iterations = 100*d"
   ]
  },
  {
   "cell_type": "code",
   "execution_count": 66,
   "metadata": {},
   "outputs": [
    {
     "data": {
      "text/plain": [
       "[<matplotlib.lines.Line2D at 0x7fda00a3efb0>]"
      ]
     },
     "execution_count": 66,
     "metadata": {},
     "output_type": "execute_result"
    },
    {
     "data": {
      "image/png": "[encoded data removed]",
      "text/plain": [
       "<Figure size 432x288 with 1 Axes>"
      ]
     },
     "metadata": {
      "needs_background": "light"
     },
     "output_type": "display_data"
    }
   ],
   "source": [
    "# check everything is working \n",
    "beta = 10\n",
    "run_exp = RunExperiment(beta, m, d, s)\n",
    "plt.plot(run_exp.get_sampling_losses(iterations))"
   ]
  },
  {
   "cell_type": "code",
   "execution_count": 42,
   "metadata": {},
   "outputs": [
    {
     "name": "stdout",
     "output_type": "stream",
     "text": [
      "beta= 10\n",
      "beta= 20\n",
      "beta= 30\n",
      "beta= 50\n",
      "beta= 80\n",
      "beta= 100\n",
      "beta= 200\n",
      "beta= 500\n",
      "beta= 1000\n",
      "beta= 10 n_iterations= 39986.2 0.0\n"
     ]
    }
   ],
   "source": [
    "# start by running by repeating only once (just to get a general idea), then for fine-graining increase\n",
    "best_beta = 0\n",
    "best_loss = math.inf\n",
    "best_iterations = math.inf\n",
    "\n",
    "for beta in [3, 5, 10, 20, 50, 100]: \n",
    "    print('beta=', beta)\n",
    "    loss, n_iterations = run_multiple_experiments(10, beta, m, d, s, fixed_ones=False, sign=False, iterations = iterations)\n",
    "\n",
    "    if loss <= best_loss and n_iterations <= best_iterations: \n",
    "        best_beta = beta\n",
    "        best_loss = loss\n",
    "        best_iterations = n_iterations\n",
    "\n",
    "print('beta=', best_beta, 'n_iterations=',best_iterations, best_loss)"
   ]
  },
  {
   "cell_type": "code",
   "execution_count": 62,
   "metadata": {},
   "outputs": [
    {
     "data": {
      "text/plain": [
       "[<matplotlib.lines.Line2D at 0x7fd9f99d0430>]"
      ]
     },
     "execution_count": 62,
     "metadata": {},
     "output_type": "execute_result"
    },
    {
     "data": {
      "image/png": "[encoded data removed]",
      "text/plain": [
       "<Figure size 432x288 with 1 Axes>"
      ]
     },
     "metadata": {
      "needs_background": "light"
     },
     "output_type": "display_data"
    }
   ],
   "source": [
    "run_exp = RunExperiment(5, m, d, s, fixed_ones=True)\n",
    "res = run_exp.get_sampling_losses(100000, change_beta_every= 5000, update_beta=lambda x : x * 1.4)\n",
    "plt.plot(res, label = 'beta=100')"
   ]
  },
  {
   "cell_type": "code",
   "execution_count": 74,
   "metadata": {},
   "outputs": [
    {
     "name": "stdout",
     "output_type": "stream",
     "text": [
      "{'beta_start': 0.01, 'increase_every': 2, 'multiplicative_increase': 1.00001} required_iterations 40314.2\n"
     ]
    },
    {
     "name": "stderr",
     "output_type": "stream",
     "text": [
      "/home/stefano/Documents/EPFL/MC/MC-project/run_experiments.py:86: RuntimeWarning: overflow encountered in exp\n",
      "  comp = np.exp(-self.beta * (new_noise - old_noise))\n",
      "/home/stefano/Documents/EPFL/MC/MC-project/run_experiments.py:86: RuntimeWarning: overflow encountered in double_scalars\n",
      "  comp = np.exp(-self.beta * (new_noise - old_noise))\n"
     ]
    },
    {
     "name": "stdout",
     "output_type": "stream",
     "text": [
      "{'beta_start': 0.01, 'increase_every': 10, 'multiplicative_increase': 1.00001} required_iterations 36663.0\n",
      "{'beta_start': 1, 'increase_every': 2, 'multiplicative_increase': 1.00001} required_iterations 36555.8\n",
      "{'beta_start': 10, 'increase_every': 1500, 'multiplicative_increase': 1.00001} required_iterations 36404.2\n",
      "0.0 36404.2\n",
      "{'beta_start': 10, 'increase_every': 1500, 'multiplicative_increase': 1.00001}\n"
     ]
    }
   ],
   "source": [
    "# start by running by repeating only once (just to get a general idea), then for fine-graining increase\n",
    "# searching for best beta and simulation technique\n",
    "best_mse = math.inf\n",
    "best_n_iterations = math.inf\n",
    "best_params = None\n",
    "\n",
    "repeat_experiment_n = 1\n",
    "for beta_start in [0.01, 0.05, 0.1, 0.5, 1, 5, 10]: \n",
    "    for increse_every in [2, 5, 10, 100, 1000, 1500, 2000, 3000]: \n",
    "        for multiplicative_increase in [1.00001,1.0001, 1.0005, 1.001, 1.01, 1.1, 1.2, 1.3]:\n",
    "            mse, required_iterations = run_multiple_experiments(5, beta, m, d, s, fixed_ones=False, sign=False, iterations = iterations, change_beta_every= increse_every, update_beta=lambda x : x * multiplicative_increase)\n",
    "            # mse, required_iterations = run_multiple_experiments(repeat_experiment_n, get_simulation_annealing_losses, iterations, beta_start, m, d, increse_every, lambda x : x * multiplicative_increase)\n",
    "            if mse <= best_mse and required_iterations <= best_n_iterations: \n",
    "                best_mse = mse\n",
    "                best_n_iterations = required_iterations\n",
    "                best_params_and_scores = {'beta_start': beta_start, 'increase_every': increse_every, 'multiplicative_increase' : multiplicative_increase}\n",
    "                print(best_params_and_scores, 'required_iterations', required_iterations)\n",
    "\n",
    "print(best_mse, best_n_iterations)\n",
    "print(best_params_and_scores)"
   ]
  },
  {
   "cell_type": "code",
   "execution_count": null,
   "metadata": {},
   "outputs": [],
   "source": [
    "/home/stefano/Documents/EPFL/MC/MC-project/run_experiments.py:86: RuntimeWarning: overflow encountered in exp\n",
    "  comp = np.exp(-self.beta * (new_noise - old_noise))\n",
    "{'beta_start': 0.1, 'increase_every': 5, 'multiplicative_increase': 1.0001} required_iterations 44933.8\n",
    "{'beta_start': 0.1, 'increase_every': 5, 'multiplicative_increase': 1.0005} required_iterations 41954.2\n",
    "/home/stefano/Documents/EPFL/MC/MC-project/run_experiments.py:86: RuntimeWarning: overflow encountered in double_scalars\n",
    "  comp = np.exp(-self.beta * (new_noise - old_noise))\n",
    "{'beta_start': 0.1, 'increase_every': 5, 'multiplicative_increase': 1.1} required_iterations 41832.8\n",
    "{'beta_start': 0.1, 'increase_every': 100, 'multiplicative_increase': 1.001} required_iterations 40837.6\n",
    "{'beta_start': 0.1, 'increase_every': 100, 'multiplicative_increase': 1.1} required_iterations 39306.4\n",
    "{'beta_start': 0.5, 'increase_every': 10, 'multiplicative_increase': 1.2} required_iterations 38112.8\n",
    "{'beta_start': 5, 'increase_every': 1000, 'multiplicative_increase': 1.0001} required_iterations 37417.0\n",
    "0.0 37417.0\n",
    "{'beta_start': 5, 'increase_every': 1000, 'multiplicative_increase': 1.0001}"
   ]
  },
  {
   "cell_type": "code",
   "execution_count": null,
   "metadata": {},
   "outputs": [],
   "source": [
    "losses_with_different_m = []\n",
    "m_values = np.arange(250,2250, 250)\n",
    "\n",
    "for m_value in  m_values: \n",
    "    # for the different values of m only save the last loss (after doing all the iterations)\n",
    "    print(f'running MC for m={m_value}', end='\\r')\n",
    "    mse, n_iterations = run_multiple_experiments(10, beta, m, d, s, fixed_ones=False, sign=False, iterations = iterations)\n",
    "    print(n_iterations)\n",
    "    losses_with_different_m.append(mse)\n",
    "\n",
    "\n",
    "plt.plot(m_values, losses_with_different_m) # always changes\n",
    "plt.ylabel('MSE')\n",
    "plt.xlabel('Number of samples over dimensions (m)')\n",
    "plt.title('MSE with different number of samples m')\n",
    "plt.tight_layout()\n",
    "\n",
    "plt.savefig('img/q1_ex6_minimum_m_to_recover.jpg')\n"
   ]
  },
  {
   "cell_type": "markdown",
   "metadata": {},
   "source": [
    "# Question 2"
   ]
  },
  {
   "cell_type": "code",
   "execution_count": 97,
   "metadata": {},
   "outputs": [
    {
     "name": "stderr",
     "output_type": "stream",
     "text": [
      "/home/stefano/Documents/EPFL/MC/MC-project/run_experiments.py:86: RuntimeWarning: overflow encountered in exp\n",
      "  mse_val = self.compute_mse(theta)\n"
     ]
    },
    {
     "data": {
      "text/plain": [
       "[<matplotlib.lines.Line2D at 0x7f3cba12ff40>]"
      ]
     },
     "execution_count": 97,
     "metadata": {},
     "output_type": "execute_result"
    },
    {
     "data": {
      "image/png": "[encoded data removed]",
      "text/plain": [
       "<Figure size 432x288 with 1 Axes>"
      ]
     },
     "metadata": {
      "needs_background": "light"
     },
     "output_type": "display_data"
    }
   ],
   "source": [
    "run_exp = RunExperiment(1000, m, d, s, fixed_ones=True)\n",
    "\n",
    "plt.plot(run_exp.get_sampling_losses(100000), label = 'beta=100')"
   ]
  },
  {
   "cell_type": "code",
   "execution_count": null,
   "metadata": {},
   "outputs": [],
   "source": [
    "# start by running by repeating only once (just to get a general idea), then for fine-graining increase\n",
    "best_beta = 0\n",
    "best_loss = math.inf\n",
    "best_iterations = math.inf\n",
    "\n",
    "for beta in [10, 20, 30, 50, 80, 100, 200, 500, 1000]: \n",
    "    print('beta=', beta)\n",
    "    loss, n_iterations = run_multiple_experiments(10, beta, m, d, s, fixed_ones=False, sign=False, iterations = iterations)\n",
    "\n",
    "    if loss <= best_loss and n_iterations <= best_iterations: \n",
    "        best_beta = beta\n",
    "        best_loss = loss\n",
    "        best_iterations = n_iterations\n",
    "\n",
    "print('beta=', best_beta, 'n_iterations=',best_iterations, best_loss)"
   ]
  },
  {
   "cell_type": "code",
   "execution_count": null,
   "metadata": {},
   "outputs": [],
   "source": []
  },
  {
   "cell_type": "code",
   "execution_count": 99,
   "metadata": {},
   "outputs": [
    {
     "data": {
      "text/plain": [
       "[<matplotlib.lines.Line2D at 0x7f3cb9fb2740>]"
      ]
     },
     "execution_count": 99,
     "metadata": {},
     "output_type": "execute_result"
    },
    {
     "data": {
      "image/png": "[encoded data removed]",
      "text/plain": [
       "<Figure size 432x288 with 1 Axes>"
      ]
     },
     "metadata": {
      "needs_background": "light"
     },
     "output_type": "display_data"
    }
   ],
   "source": [
    "m3 = 100\n",
    "d3 = 500\n",
    "s3 = d3/100\n",
    "#beta = 2\n",
    "iterations3 = 100*d3\n",
    "\n",
    "run_exp = RunExperiment(1, m3, d3, s3, fixed_ones=True, sign= True)\n",
    "\n",
    "plt.plot(run_exp.get_sampling_losses(10000), label = 'beta=100')"
   ]
  }
 ],
 "metadata": {
  "kernelspec": {
   "display_name": "Python 3",
   "language": "python",
   "name": "python3"
  },
  "language_info": {
   "codemirror_mode": {
    "name": "ipython",
    "version": 3
   },
   "file_extension": ".py",
   "mimetype": "text/x-python",
   "name": "python",
   "nbconvert_exporter": "python",
   "pygments_lexer": "ipython3",
   "version": "3.10.12"
  }
 },
 "nbformat": 4,
 "nbformat_minor": 2
}
