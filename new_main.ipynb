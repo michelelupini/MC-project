{
 "cells": [
  {
   "cell_type": "code",
   "execution_count": 1,
   "metadata": {},
   "outputs": [],
   "source": [
    "%load_ext autoreload\n",
    "%autoreload 2\n",
    "\n",
    "import numpy as np\n",
    "import random\n",
    "from scipy.stats import norm\n",
    "from run_experiments import * \n",
    "import matplotlib.pyplot as plt"
   ]
  },
  {
   "cell_type": "markdown",
   "metadata": {},
   "source": [
    "# Question 1"
   ]
  },
  {
   "cell_type": "code",
   "execution_count": 2,
   "metadata": {},
   "outputs": [],
   "source": [
    "# init parameters, same for question 1 and 2\n",
    "m = 2000\n",
    "d = 2000\n",
    "s = d/100\n",
    "iterations = 100*d"
   ]
  },
  {
   "cell_type": "code",
   "execution_count": 3,
   "metadata": {},
   "outputs": [
    {
     "data": {
      "text/plain": [
       "[<matplotlib.lines.Line2D at 0x7f24fceae8c0>]"
      ]
     },
     "execution_count": 3,
     "metadata": {},
     "output_type": "execute_result"
    },
    {
     "data": {
      "image/png": "[encoded data removed]",
      "text/plain": [
       "<Figure size 432x288 with 1 Axes>"
      ]
     },
     "metadata": {
      "needs_background": "light"
     },
     "output_type": "display_data"
    }
   ],
   "source": [
    "# check everything is working \n",
    "beta = 10\n",
    "run_exp = RunExperiment(beta, m, d, s)\n",
    "plt.plot(run_exp.get_sampling_losses(iterations))"
   ]
  },
  {
   "cell_type": "code",
   "execution_count": 4,
   "metadata": {},
   "outputs": [
    {
     "name": "stdout",
     "output_type": "stream",
     "text": [
      "beta= 100 n_iterations= 57534.933333333334 loss 0.0\n",
      "beta= 20 n_iterations= 61829.066666666666 loss 0.0\n",
      "beta= 10 n_iterations= 71539.0 loss 0.0\n",
      "beta= 50 n_iterations= 86019.53333333334 loss 0.0033333333333333335\n",
      "beta= 5 n_iterations= 84562.6 loss 0.006666666666666667\n",
      "Best result: beta= 100 n_iterations= 57534.933333333334 loss 0.0\n"
     ]
    }
   ],
   "source": [
    "repeat_n_times=15\n",
    "betas=[5, 10, 20, 50, 100]\n",
    "run_multiple_multi_proc(repeat_n_times, betas, m, d, s, fixed_ones=True, sign=False, iterations=iterations)"
   ]
  },
  {
   "cell_type": "code",
   "execution_count": 62,
   "metadata": {},
   "outputs": [
    {
     "data": {
      "text/plain": [
       "[<matplotlib.lines.Line2D at 0x7fd9f99d0430>]"
      ]
     },
     "execution_count": 62,
     "metadata": {},
     "output_type": "execute_result"
    },
    {
     "data": {
      "image/png": "[encoded data removed]",
      "text/plain": [
       "<Figure size 432x288 with 1 Axes>"
      ]
     },
     "metadata": {
      "needs_background": "light"
     },
     "output_type": "display_data"
    }
   ],
   "source": [
    "# test if simulation annealing is working\n",
    "beta = 5\n",
    "run_exp = RunExperiment(beta, m, d, s, fixed_ones=True)\n",
    "res = run_exp.get_sampling_losses(100000, change_beta_every= 5000, update_beta=lambda x : x * 1.4)\n",
    "plt.plot(res, label = 'beta=100')"
   ]
  },
  {
   "cell_type": "code",
   "execution_count": 74,
   "metadata": {},
   "outputs": [
    {
     "name": "stdout",
     "output_type": "stream",
     "text": [
      "{'beta_start': 0.01, 'increase_every': 2, 'multiplicative_increase': 1.00001} required_iterations 40314.2\n"
     ]
    },
    {
     "name": "stderr",
     "output_type": "stream",
     "text": [
      "/home/stefano/Documents/EPFL/MC/MC-project/run_experiments.py:86: RuntimeWarning: overflow encountered in exp\n",
      "  comp = np.exp(-self.beta * (new_noise - old_noise))\n",
      "/home/stefano/Documents/EPFL/MC/MC-project/run_experiments.py:86: RuntimeWarning: overflow encountered in double_scalars\n",
      "  comp = np.exp(-self.beta * (new_noise - old_noise))\n"
     ]
    },
    {
     "name": "stdout",
     "output_type": "stream",
     "text": [
      "{'beta_start': 0.01, 'increase_every': 10, 'multiplicative_increase': 1.00001} required_iterations 36663.0\n",
      "{'beta_start': 1, 'increase_every': 2, 'multiplicative_increase': 1.00001} required_iterations 36555.8\n",
      "{'beta_start': 10, 'increase_every': 1500, 'multiplicative_increase': 1.00001} required_iterations 36404.2\n",
      "0.0 36404.2\n",
      "{'beta_start': 10, 'increase_every': 1500, 'multiplicative_increase': 1.00001}\n"
     ]
    }
   ],
   "source": [
    "# start by running by repeating only once (just to get a general idea), then for fine-graining increase\n",
    "# searching for best beta and simulation technique\n",
    "best_mse = math.inf\n",
    "best_n_iterations = math.inf\n",
    "best_params = None\n",
    "\n",
    "repeat_experiment_n = 1\n",
    "for beta_start in [0.01, 0.05, 0.1, 0.5, 1, 5, 10]: \n",
    "    for increse_every in [2, 5, 10, 100, 1000, 1500, 2000, 3000]: \n",
    "        for multiplicative_increase in [1.00001,1.0001, 1.0005, 1.001, 1.01, 1.1, 1.2, 1.3]:\n",
    "            mse, required_iterations = run_multiple_experiments(5, beta, m, d, s, fixed_ones=False, sign=False, iterations = iterations, change_beta_every= increse_every, update_beta=lambda x : x * multiplicative_increase)\n",
    "            # mse, required_iterations = run_multiple_experiments(repeat_experiment_n, get_simulation_annealing_losses, iterations, beta_start, m, d, increse_every, lambda x : x * multiplicative_increase)\n",
    "            if mse <= best_mse and required_iterations <= best_n_iterations: \n",
    "                best_mse = mse\n",
    "                best_n_iterations = required_iterations\n",
    "                best_params_and_scores = {'beta_start': beta_start, 'increase_every': increse_every, 'multiplicative_increase' : multiplicative_increase}\n",
    "                print(best_params_and_scores, 'required_iterations', required_iterations)\n",
    "\n",
    "print(best_mse, best_n_iterations)\n",
    "print(best_params_and_scores)"
   ]
  },
  {
   "cell_type": "code",
   "execution_count": null,
   "metadata": {},
   "outputs": [],
   "source": [
    "m_values = np.arange(100 , 2200, 100)\n",
    "multiplicative_increase =  1.00001\n",
    "increase_every = 1500\n",
    "beta =  10\n",
    "\n",
    "run_multiple_ms(repeat_n_times, betas, m_values, d, s, multiplicative_increase, increase_every, fixed_ones=False, sign=False, iterations = 0)"
   ]
  },
  {
   "cell_type": "code",
   "execution_count": 4,
   "metadata": {},
   "outputs": [
    {
     "name": "stdout",
     "output_type": "stream",
     "text": [
      "running MC for m=100\n",
      "200000.0\n",
      "running MC for m=200\n",
      "200000.0\n",
      "running MC for m=300\n",
      "200000.0\n",
      "running MC for m=400\n",
      "200000.0\n",
      "running MC for m=500\n",
      "200000.0\n",
      "running MC for m=600\n",
      "200000.0\n",
      "running MC for m=700\n",
      "200000.0\n",
      "running MC for m=800\n",
      "200000.0\n",
      "running MC for m=900\n",
      "200000.0\n",
      "running MC for m=1000\n",
      "200000.0\n",
      "running MC for m=1100\n",
      "200000.0\n",
      "running MC for m=1200\n",
      "200000.0\n",
      "running MC for m=1300\n",
      "200000.0\n",
      "running MC for m=1400\n",
      "112535.0\n",
      "running MC for m=1500\n",
      "94049.0\n",
      "running MC for m=1600\n",
      "44171.0\n",
      "running MC for m=1700\n",
      "44676.0\n",
      "running MC for m=1800\n",
      "34213.0\n",
      "running MC for m=1900\n",
      "24691.0\n",
      "running MC for m=2000\n",
      "30476.0\n",
      "running MC for m=2100\n",
      "19978.0\n"
     ]
    },
    {
     "data": {
      "image/png": "[encoded data removed]",
      "text/plain": [
       "<Figure size 432x288 with 1 Axes>"
      ]
     },
     "metadata": {
      "needs_background": "light"
     },
     "output_type": "display_data"
    }
   ],
   "source": [
    "losses_with_different_m = []\n",
    "m_values = np.arange(100 , 2200, 100)\n",
    "multiplicative_increase =  1.00001\n",
    "increase_every = 1500\n",
    "beta =  10\n",
    "\n",
    "\n",
    "for m_value in  m_values: \n",
    "    # for the different values of m only save the last loss (after doing all the iterations)\n",
    "\n",
    "    mse, n_iterations = run_multiple_experiments(10, beta, m_value, d, s, fixed_ones=False, sign=False, iterations = iterations, change_beta_every= increase_every, update_beta=lambda x : x * multiplicative_increase)\n",
    "    print(f'm={m_value}, iterations= {n_iterations}')\n",
    "    losses_with_different_m.append(mse)\n",
    "\n",
    "\n",
    "plt.plot(m_values, losses_with_different_m) # always changes\n",
    "plt.ylabel('MSE')\n",
    "plt.xlabel('Number of samples over dimensions (m)')\n",
    "plt.title('MSE with different number of samples m')\n",
    "plt.tight_layout()\n",
    "\n",
    "plt.savefig('img/q1_ex6_minimum_m_to_recover.jpg')\n"
   ]
  },
  {
   "cell_type": "markdown",
   "metadata": {},
   "source": [
    "# Question 2"
   ]
  },
  {
   "cell_type": "code",
   "execution_count": 5,
   "metadata": {},
   "outputs": [
    {
     "name": "stderr",
     "output_type": "stream",
     "text": [
      "/home/stefano/Documents/EPFL/MC/MC-project/run_experiments.py:86: RuntimeWarning: overflow encountered in exp\n",
      "  comp = np.exp(-self.beta * (new_noise - old_noise))\n"
     ]
    },
    {
     "data": {
      "text/plain": [
       "[<matplotlib.lines.Line2D at 0x7f097811cfa0>]"
      ]
     },
     "execution_count": 5,
     "metadata": {},
     "output_type": "execute_result"
    },
    {
     "data": {
      "image/png": "[encoded data removed]",
      "text/plain": [
       "<Figure size 432x288 with 1 Axes>"
      ]
     },
     "metadata": {
      "needs_background": "light"
     },
     "output_type": "display_data"
    }
   ],
   "source": [
    "run_exp = RunExperiment(1000, m, d, s, fixed_ones=True)\n",
    "\n",
    "plt.plot(run_exp.get_sampling_losses(100000), label = 'beta=100')"
   ]
  },
  {
   "cell_type": "code",
   "execution_count": 10,
   "metadata": {},
   "outputs": [
    {
     "name": "stdout",
     "output_type": "stream",
     "text": [
      "beta= 100 n_iterations= 54874.7 loss 0.0\n",
      "beta= 200 n_iterations= 54874.7 loss 0.0\n",
      "beta= 500 n_iterations= 46715.4 loss 0.0\n",
      "beta= 1000 n_iterations= 46715.4 loss 0.0\n",
      "beta= 2000 n_iterations= 46715.4 loss 0.0\n",
      "beta= 5000 n_iterations= 44038.1 loss 0.0\n",
      "beta= 10000 n_iterations= 44038.1 loss 0.0\n",
      "beta= 5000 n_iterations= 44038.1 0.0\n"
     ]
    }
   ],
   "source": [
    "# start by running by repeating only once (just to get a general idea), then for fine-graining increase\n",
    "best_beta = 0\n",
    "best_loss = math.inf\n",
    "best_iterations = math.inf\n",
    "\n",
    "for beta in [100, 200, 500, 1000, 2000, 5000, 10000]: \n",
    "    loss, n_iterations = run_multiple_experiments(10, beta, m, d, s, fixed_ones=True, sign=False, iterations = iterations)\n",
    "\n",
    "    if loss <= best_loss and n_iterations <= best_iterations: \n",
    "        best_beta = beta\n",
    "        best_loss = loss\n",
    "        best_iterations = n_iterations\n",
    "\n",
    "    print('beta=', beta, 'n_iterations=',best_iterations, 'loss',best_loss)\n",
    "\n",
    "print('beta=', best_beta, 'n_iterations=',best_iterations, best_loss)\n",
    "# 7 minutes"
   ]
  },
  {
   "cell_type": "code",
   "execution_count": null,
   "metadata": {},
   "outputs": [],
   "source": [
    "import math\n",
    "from concurrent.futures import ProcessPoolExecutor\n",
    "\n",
    "def run_experiment(beta):\n",
    "    loss, n_iterations = run_multiple_experiments(10, beta, m, d, s, fixed_ones=True, sign=False, iterations=iterations)\n",
    "    return beta, loss, n_iterations\n",
    "\n",
    "best_beta = 0\n",
    "best_loss = math.inf\n",
    "best_iterations = math.inf\n",
    "\n",
    "with ProcessPoolExecutor() as executor:\n",
    "    futures = {executor.submit(run_experiment, beta): beta for beta in [100, 200, 500, 1000, 2000, 5000, 10000]}\n",
    "\n",
    "    for future in concurrent.futures.as_completed(futures):\n",
    "        beta, loss, n_iterations = future.result()\n",
    "\n",
    "        if loss <= best_loss and n_iterations <= best_iterations:\n",
    "            best_beta = beta\n",
    "            best_loss = loss\n",
    "            best_iterations = n_iterations\n",
    "\n",
    "        print('beta=', beta, 'n_iterations=', best_iterations, 'loss', best_loss)\n",
    "\n",
    "print('Best result: beta=', best_beta, 'n_iterations=', best_iterations, 'loss', best_loss)\n"
   ]
  },
  {
   "cell_type": "code",
   "execution_count": 12,
   "metadata": {},
   "outputs": [
    {
     "name": "stdout",
     "output_type": "stream",
     "text": [
      "{'beta_start': 0.1, 'increase_every': 2, 'multiplicative_increase': 1.00001} required_iterations 49366.0\n",
      "{'beta_start': 0.1, 'increase_every': 2, 'multiplicative_increase': 1.0001} required_iterations 42599.0\n",
      "{'beta_start': 0.1, 'increase_every': 2, 'multiplicative_increase': 1.0005} required_iterations 32357.0\n",
      "{'beta_start': 0.1, 'increase_every': 5, 'multiplicative_increase': 1.1} required_iterations 29195.0\n",
      "{'beta_start': 0.1, 'increase_every': 2000, 'multiplicative_increase': 1.01} required_iterations 20494.5\n",
      "{'beta_start': 1, 'increase_every': 1000, 'multiplicative_increase': 1.00001} required_iterations 19761.0\n",
      "{'beta_start': 5, 'increase_every': 5, 'multiplicative_increase': 1.01} required_iterations 18948.5\n",
      "{'beta_start': 50, 'increase_every': 100, 'multiplicative_increase': 1.00001} required_iterations 15676.0\n",
      "0.0 15676.0\n",
      "{'beta_start': 50, 'increase_every': 100, 'multiplicative_increase': 1.00001}\n"
     ]
    }
   ],
   "source": [
    "best_mse = math.inf\n",
    "best_n_iterations = math.inf\n",
    "best_params = None\n",
    "\n",
    "repeat_experiment_n = 1\n",
    "for beta_start in [0.1, 0.5, 1, 5, 10, 20, 50, 100]: \n",
    "    for increse_every in [2, 5, 10, 100, 1000, 1500, 2000, 3000]: \n",
    "        for multiplicative_increase in [1.00001, 1.0001, 1.0005, 1.001, 1.01, 1.1, 1.2, 1.3]:\n",
    "            mse, required_iterations = run_multiple_experiments(2, beta, m, d, s, fixed_ones=True, sign=False, iterations = iterations, change_beta_every= increse_every, update_beta=lambda x : x * multiplicative_increase)\n",
    "            # mse, required_iterations = run_multiple_experiments(repeat_experiment_n, get_simulation_annealing_losses, iterations, beta_start, m, d, increse_every, lambda x : x * multiplicative_increase)\n",
    "            if mse <= best_mse and required_iterations <= best_n_iterations: \n",
    "                best_mse = mse\n",
    "                best_n_iterations = required_iterations\n",
    "                best_params_and_scores = {'beta_start': beta_start, 'increase_every': increse_every, 'multiplicative_increase' : multiplicative_increase}\n",
    "                print(best_params_and_scores, 'required_iterations', required_iterations)\n",
    "\n",
    "print(best_mse, best_n_iterations)\n",
    "print(best_params_and_scores)"
   ]
  },
  {
   "cell_type": "code",
   "execution_count": 20,
   "metadata": {},
   "outputs": [
    {
     "data": {
      "image/png": "[encoded data removed]",
      "text/plain": [
       "<Figure size 432x288 with 1 Axes>"
      ]
     },
     "metadata": {
      "needs_background": "light"
     },
     "output_type": "display_data"
    }
   ],
   "source": [
    "\n",
    "\n",
    "losses_with_different_m = []\n",
    "m_values = np.arange(50 , 300, 25)\n",
    "\n",
    "for m_value in  m_values: \n",
    "    # for the different values of m only save the last loss (after doing all the iterations)\n",
    "    print(f'running MC for m={m_value}')\n",
    "    beta =  50\n",
    "    increase_every = 100\n",
    "    multiplicative_increase =  1.00001\n",
    "    mse, n_iterations = run_multiple_experiments(15, beta, m_value, d, s, fixed_ones=True, sign=False, iterations = iterations, change_beta_every= increase_every, update_beta= multiplicative_increase)\n",
    "    print(n_iterations)\n",
    "    losses_with_different_m.append(mse)\n",
    "\n",
    "\n",
    "plt.plot(m_values, losses_with_different_m) # always changes\n",
    "plt.ylabel('MSE')\n",
    "plt.xlabel('Number of samples over dimensions (m)')\n",
    "plt.title('MSE with different number of samples m')\n",
    "plt.tight_layout()\n",
    "\n",
    "plt.savefig('img/q2_ex3_minimum_m_to_recover.jpg')\n"
   ]
  },
  {
   "cell_type": "markdown",
   "metadata": {},
   "source": [
    "# Question 3"
   ]
  },
  {
   "cell_type": "code",
   "execution_count": 3,
   "metadata": {},
   "outputs": [
    {
     "data": {
      "text/plain": [
       "[<matplotlib.lines.Line2D at 0x7fcd44b86da0>]"
      ]
     },
     "execution_count": 3,
     "metadata": {},
     "output_type": "execute_result"
    },
    {
     "data": {
      "image/png": "[encoded data removed]",
      "text/plain": [
       "<Figure size 432x288 with 1 Axes>"
      ]
     },
     "metadata": {
      "needs_background": "light"
     },
     "output_type": "display_data"
    }
   ],
   "source": [
    "m3 = 100\n",
    "d3 = 500\n",
    "s3 = d3/100\n",
    "#beta = 2\n",
    "iterations3 = 100*d3\n",
    "\n",
    "run_exp = RunExperiment(1, m3, d3, s3, fixed_ones=True, sign= True)\n",
    "\n",
    "plt.plot(run_exp.get_sampling_losses(iterations3), label = 'beta=100')"
   ]
  },
  {
   "cell_type": "code",
   "execution_count": 6,
   "metadata": {},
   "outputs": [
    {
     "name": "stderr",
     "output_type": "stream",
     "text": [
      "/home/stefano/Documents/EPFL/MC/MC-project/run_experiments.py:89: RuntimeWarning: overflow encountered in exp\n",
      "  comp = np.exp(-self.beta * (new_noise - old_noise))\n",
      "/home/stefano/Documents/EPFL/MC/MC-project/run_experiments.py:89: RuntimeWarning: overflow encountered in exp\n",
      "  comp = np.exp(-self.beta * (new_noise - old_noise))\n",
      "/home/stefano/Documents/EPFL/MC/MC-project/run_experiments.py:89: RuntimeWarning: overflow encountered in exp\n",
      "  comp = np.exp(-self.beta * (new_noise - old_noise))\n",
      "/home/stefano/Documents/EPFL/MC/MC-project/compute_noise.py:69: RuntimeWarning: divide by zero encountered in log\n",
      "  return -(np.log(alpha[self.ones_indices]).sum() + np.log(1 - alpha[self.min_one_indices]).sum())\n",
      "/home/stefano/Documents/EPFL/MC/MC-project/run_experiments.py:89: RuntimeWarning: overflow encountered in exp\n",
      "  comp = np.exp(-self.beta * (new_noise - old_noise))\n",
      "/home/stefano/Documents/EPFL/MC/MC-project/run_experiments.py:89: RuntimeWarning: overflow encountered in exp\n",
      "  comp = np.exp(-self.beta * (new_noise - old_noise))\n",
      "/home/stefano/Documents/EPFL/MC/MC-project/run_experiments.py:89: RuntimeWarning: overflow encountered in exp\n",
      "  comp = np.exp(-self.beta * (new_noise - old_noise))\n",
      "/home/stefano/Documents/EPFL/MC/MC-project/compute_noise.py:69: RuntimeWarning: divide by zero encountered in log\n",
      "  return -(np.log(alpha[self.ones_indices]).sum() + np.log(1 - alpha[self.min_one_indices]).sum())\n",
      "/home/stefano/Documents/EPFL/MC/MC-project/run_experiments.py:89: RuntimeWarning: overflow encountered in exp\n",
      "  comp = np.exp(-self.beta * (new_noise - old_noise))\n",
      "/home/stefano/Documents/EPFL/MC/MC-project/run_experiments.py:89: RuntimeWarning: overflow encountered in exp\n",
      "  comp = np.exp(-self.beta * (new_noise - old_noise))\n",
      "/home/stefano/Documents/EPFL/MC/MC-project/compute_noise.py:69: RuntimeWarning: divide by zero encountered in log\n",
      "  return -(np.log(alpha[self.ones_indices]).sum() + np.log(1 - alpha[self.min_one_indices]).sum())\n",
      "/home/stefano/Documents/EPFL/MC/MC-project/compute_noise.py:69: RuntimeWarning: divide by zero encountered in log\n",
      "  return -(np.log(alpha[self.ones_indices]).sum() + np.log(1 - alpha[self.min_one_indices]).sum())\n"
     ]
    },
    {
     "name": "stdout",
     "output_type": "stream",
     "text": [
      "beta= 1000 n_iterations= 7227.666666666667 loss 0.02666666666666667\n"
     ]
    },
    {
     "name": "stderr",
     "output_type": "stream",
     "text": [
      "/home/stefano/Documents/EPFL/MC/MC-project/compute_noise.py:69: RuntimeWarning: divide by zero encountered in log\n",
      "  return -(np.log(alpha[self.ones_indices]).sum() + np.log(1 - alpha[self.min_one_indices]).sum())\n"
     ]
    },
    {
     "name": "stdout",
     "output_type": "stream",
     "text": [
      "beta= 20 n_iterations= 8471.133333333333 loss 0.04000000000000001\n",
      "beta= 1 n_iterations= 9246.0 loss 0.0\n",
      "beta= 100 n_iterations= 10917.666666666666 loss 0.02666666666666667\n"
     ]
    },
    {
     "name": "stderr",
     "output_type": "stream",
     "text": [
      "/home/stefano/Documents/EPFL/MC/MC-project/compute_noise.py:69: RuntimeWarning: divide by zero encountered in log\n",
      "  return -(np.log(alpha[self.ones_indices]).sum() + np.log(1 - alpha[self.min_one_indices]).sum())\n"
     ]
    },
    {
     "name": "stdout",
     "output_type": "stream",
     "text": [
      "beta= 10 n_iterations= 13480.933333333332 loss 0.04000000000000001\n",
      "beta= 80 n_iterations= 14004.2 loss 0.10666666666666667\n",
      "beta= 30 n_iterations= 14334.933333333332 loss 0.13333333333333333\n",
      "beta= 50 n_iterations= 16983.133333333335 loss 0.08000000000000002\n",
      "beta= 500 n_iterations= 16431.666666666668 loss 0.13333333333333333\n"
     ]
    },
    {
     "name": "stderr",
     "output_type": "stream",
     "text": [
      "/home/stefano/Documents/EPFL/MC/MC-project/compute_noise.py:69: RuntimeWarning: divide by zero encountered in log\n",
      "  return -(np.log(alpha[self.ones_indices]).sum() + np.log(1 - alpha[self.min_one_indices]).sum())\n"
     ]
    },
    {
     "name": "stdout",
     "output_type": "stream",
     "text": [
      "beta= 200 n_iterations= 16228.6 loss 0.09333333333333334\n",
      "beta= 0.1 n_iterations= 48619.73333333333 loss 0.8133333333333334\n",
      "Best result: beta= 1000 n_iterations= 7227.666666666667 loss 0.02666666666666667\n"
     ]
    }
   ],
   "source": [
    "repeat_n_times=15\n",
    "betas=[0.1, 1, 10, 20, 30, 50, 80, 100, 200, 500, 1000]\n",
    "run_multiple_multi_proc(repeat_n_times, betas, m3, d3, s3, fixed_ones=True, sign=True, iterations=iterations3)"
   ]
  },
  {
   "cell_type": "code",
   "execution_count": 17,
   "metadata": {},
   "outputs": [
    {
     "name": "stdout",
     "output_type": "stream",
     "text": [
      "{'beta_start': 0.01, 'increase_every': 2, 'multiplicative_increase': 1.00001} required_iterations 50000.0\n",
      "{'beta_start': 0.01, 'increase_every': 2, 'multiplicative_increase': 1.0001} required_iterations 50000.0\n",
      "{'beta_start': 0.01, 'increase_every': 2, 'multiplicative_increase': 1.0005} required_iterations 23113.2\n"
     ]
    },
    {
     "name": "stderr",
     "output_type": "stream",
     "text": [
      "/home/stefano/Documents/EPFL/MC/MC-project/run_experiments.py:89: RuntimeWarning: overflow encountered in exp\n",
      "  comp = np.exp(-self.beta * (new_noise - old_noise))\n",
      "/home/stefano/Documents/EPFL/MC/MC-project/run_experiments.py:89: RuntimeWarning: overflow encountered in double_scalars\n",
      "  comp = np.exp(-self.beta * (new_noise - old_noise))\n"
     ]
    },
    {
     "name": "stdout",
     "output_type": "stream",
     "text": [
      "{'beta_start': 0.01, 'increase_every': 2, 'multiplicative_increase': 1.1} required_iterations 6481.6\n",
      "{'beta_start': 0.01, 'increase_every': 2, 'multiplicative_increase': 1.2} required_iterations 3870.2\n",
      "{'beta_start': 0.01, 'increase_every': 2000, 'multiplicative_increase': 1.3} required_iterations 3486.4\n",
      "{'beta_start': 0.05, 'increase_every': 10, 'multiplicative_increase': 1.2} required_iterations 2823.8\n",
      "{'beta_start': 0.05, 'increase_every': 2000, 'multiplicative_increase': 1.2} required_iterations 2796.8\n"
     ]
    }
   ],
   "source": [
    "best_mse = math.inf\n",
    "best_n_iterations = math.inf\n",
    "best_params = None\n",
    "\n",
    "repeat_experiment_n = 1\n",
    "for beta_start in [0.01, 0.05, 0.1, 0.5, 1, 5, 10]: \n",
    "    for increse_every in [2, 5, 10, 100, 1000, 1500, 2000, 3000]: \n",
    "        for multiplicative_increase in [1.00001,1.0001, 1.0005, 1.001, 1.01, 1.1, 1.2, 1.3]:\n",
    "            beta, mse, required_iterations = run_multiple_experiments(5, beta, m3, d3, s3, fixed_ones=True, sign=True, iterations = iterations3, change_beta_every= increse_every, update_beta= multiplicative_increase)\n",
    "            # mse, required_iterations = run_multiple_experiments(repeat_experiment_n, get_simulation_annealing_losses, iterations, beta_start, m, d, increse_every, lambda x : x * multiplicative_increase)\n",
    "            if mse <= best_mse and required_iterations <= best_n_iterations: \n",
    "                best_mse = mse\n",
    "                best_n_iterations = required_iterations\n",
    "                best_params_and_scores = {'beta_start': beta_start, 'increase_every': increse_every, 'multiplicative_increase' : multiplicative_increase}\n",
    "                print(best_params_and_scores, 'required_iterations', required_iterations)\n",
    "\n",
    "print(best_mse, best_n_iterations)\n",
    "print(best_params_and_scores)"
   ]
  },
  {
   "cell_type": "code",
   "execution_count": 16,
   "metadata": {},
   "outputs": [
    {
     "name": "stdout",
     "output_type": "stream",
     "text": [
      "running MC for m=10\n"
     ]
    },
    {
     "name": "stderr",
     "output_type": "stream",
     "text": [
      "/home/stefano/Documents/EPFL/MC/MC-project/compute_noise.py:69: RuntimeWarning: divide by zero encountered in log\n",
      "  return -(np.log(alpha[self.ones_indices]).sum() + np.log(1 - alpha[self.min_one_indices]).sum())\n"
     ]
    },
    {
     "name": "stdout",
     "output_type": "stream",
     "text": [
      "50000.0\n",
      "running MC for m=30\n",
      "50000.0\n",
      "running MC for m=50\n",
      "50000.0\n",
      "running MC for m=70\n",
      "50000.0\n",
      "running MC for m=90\n",
      "50000.0\n",
      "running MC for m=110\n",
      "50000.0\n",
      "running MC for m=130\n",
      "50000.0\n",
      "running MC for m=150\n",
      "50000.0\n",
      "running MC for m=170\n"
     ]
    },
    {
     "ename": "KeyboardInterrupt",
     "evalue": "",
     "output_type": "error",
     "traceback": [
      "\u001b[0;31m---------------------------------------------------------------------------\u001b[0m",
      "\u001b[0;31mKeyboardInterrupt\u001b[0m                         Traceback (most recent call last)",
      "\u001b[0;32m/tmp/ipykernel_26777/2298610983.py\u001b[0m in \u001b[0;36m<module>\u001b[0;34m\u001b[0m\n\u001b[1;32m      8\u001b[0m     \u001b[0mincrease_every\u001b[0m \u001b[0;34m=\u001b[0m \u001b[0;36m1500\u001b[0m\u001b[0;34m\u001b[0m\u001b[0;34m\u001b[0m\u001b[0m\n\u001b[1;32m      9\u001b[0m     \u001b[0mmultiplicative_increase\u001b[0m \u001b[0;34m=\u001b[0m  \u001b[0;36m1.0005\u001b[0m\u001b[0;34m\u001b[0m\u001b[0;34m\u001b[0m\u001b[0m\n\u001b[0;32m---> 10\u001b[0;31m     beta, mse, n_iterations = run_multiple_experiments(15, beta, m_value, d3, s3, fixed_ones=True, sign=True, \n\u001b[0m\u001b[1;32m     11\u001b[0m                                                  iterations = iterations3, change_beta_every= increase_every, update_beta= multiplicative_increase)\n\u001b[1;32m     12\u001b[0m     \u001b[0mprint\u001b[0m\u001b[0;34m(\u001b[0m\u001b[0mn_iterations\u001b[0m\u001b[0;34m)\u001b[0m\u001b[0;34m\u001b[0m\u001b[0;34m\u001b[0m\u001b[0m\n",
      "\u001b[0;32m~/Documents/EPFL/MC/MC-project/run_experiments.py\u001b[0m in \u001b[0;36mrun_multiple_experiments\u001b[0;34m(repeat_n_times, beta, m, d, s, fixed_ones, sign, **args)\u001b[0m\n\u001b[1;32m    115\u001b[0m     \u001b[0;32mfor\u001b[0m \u001b[0mi\u001b[0m \u001b[0;32min\u001b[0m \u001b[0mrange\u001b[0m\u001b[0;34m(\u001b[0m\u001b[0mrepeat_n_times\u001b[0m\u001b[0;34m)\u001b[0m\u001b[0;34m:\u001b[0m\u001b[0;34m\u001b[0m\u001b[0;34m\u001b[0m\u001b[0m\n\u001b[1;32m    116\u001b[0m         \u001b[0mrun_exp\u001b[0m \u001b[0;34m=\u001b[0m \u001b[0mRunExperiment\u001b[0m\u001b[0;34m(\u001b[0m\u001b[0mbeta\u001b[0m\u001b[0;34m,\u001b[0m \u001b[0mm\u001b[0m\u001b[0;34m,\u001b[0m \u001b[0md\u001b[0m\u001b[0;34m,\u001b[0m \u001b[0ms\u001b[0m\u001b[0;34m,\u001b[0m \u001b[0mfixed_ones\u001b[0m\u001b[0;34m,\u001b[0m \u001b[0msign\u001b[0m\u001b[0;34m)\u001b[0m\u001b[0;34m\u001b[0m\u001b[0;34m\u001b[0m\u001b[0m\n\u001b[0;32m--> 117\u001b[0;31m         \u001b[0merrors\u001b[0m \u001b[0;34m=\u001b[0m \u001b[0mrun_exp\u001b[0m\u001b[0;34m.\u001b[0m\u001b[0mget_sampling_losses\u001b[0m\u001b[0;34m(\u001b[0m\u001b[0;34m**\u001b[0m\u001b[0margs\u001b[0m\u001b[0;34m)\u001b[0m\u001b[0;34m\u001b[0m\u001b[0;34m\u001b[0m\u001b[0m\n\u001b[0m\u001b[1;32m    118\u001b[0m         \u001b[0mlist_errors\u001b[0m\u001b[0;34m.\u001b[0m\u001b[0mappend\u001b[0m\u001b[0;34m(\u001b[0m\u001b[0merrors\u001b[0m\u001b[0;34m[\u001b[0m\u001b[0;34m-\u001b[0m\u001b[0;36m1\u001b[0m\u001b[0;34m]\u001b[0m\u001b[0;34m)\u001b[0m\u001b[0;34m\u001b[0m\u001b[0;34m\u001b[0m\u001b[0m\n\u001b[1;32m    119\u001b[0m         \u001b[0msteps_to_converge\u001b[0m\u001b[0;34m.\u001b[0m\u001b[0mappend\u001b[0m\u001b[0;34m(\u001b[0m\u001b[0mlen\u001b[0m\u001b[0;34m(\u001b[0m\u001b[0merrors\u001b[0m\u001b[0;34m)\u001b[0m\u001b[0;34m)\u001b[0m\u001b[0;34m\u001b[0m\u001b[0;34m\u001b[0m\u001b[0m\n",
      "\u001b[0;32m~/Documents/EPFL/MC/MC-project/run_experiments.py\u001b[0m in \u001b[0;36mget_sampling_losses\u001b[0;34m(self, iterations, change_beta_every, update_beta)\u001b[0m\n\u001b[1;32m     82\u001b[0m \u001b[0;34m\u001b[0m\u001b[0m\n\u001b[1;32m     83\u001b[0m         \u001b[0;32mfor\u001b[0m \u001b[0m_\u001b[0m \u001b[0;32min\u001b[0m \u001b[0mrange\u001b[0m\u001b[0;34m(\u001b[0m\u001b[0miterations\u001b[0m\u001b[0;34m)\u001b[0m\u001b[0;34m:\u001b[0m\u001b[0;34m\u001b[0m\u001b[0;34m\u001b[0m\u001b[0m\n\u001b[0;32m---> 84\u001b[0;31m             \u001b[0mtheta1\u001b[0m \u001b[0;34m=\u001b[0m \u001b[0mself\u001b[0m\u001b[0;34m.\u001b[0m\u001b[0mchange_state\u001b[0m\u001b[0;34m(\u001b[0m\u001b[0mtheta\u001b[0m\u001b[0;34m)\u001b[0m\u001b[0;34m\u001b[0m\u001b[0;34m\u001b[0m\u001b[0m\n\u001b[0m\u001b[1;32m     85\u001b[0m \u001b[0;34m\u001b[0m\u001b[0m\n\u001b[1;32m     86\u001b[0m             \u001b[0mresidual\u001b[0m\u001b[0;34m,\u001b[0m \u001b[0mold_noise\u001b[0m \u001b[0;34m=\u001b[0m \u001b[0mself\u001b[0m\u001b[0;34m.\u001b[0m\u001b[0mcompute_noise\u001b[0m\u001b[0;34m(\u001b[0m\u001b[0mtheta\u001b[0m\u001b[0;34m)\u001b[0m\u001b[0;34m\u001b[0m\u001b[0;34m\u001b[0m\u001b[0m\n",
      "\u001b[0;32m~/Documents/EPFL/MC/MC-project/run_experiments.py\u001b[0m in \u001b[0;36mchange_theta_fixed_ones\u001b[0;34m(self, theta)\u001b[0m\n\u001b[1;32m     55\u001b[0m         \u001b[0mzeros_indices\u001b[0m \u001b[0;34m=\u001b[0m \u001b[0mnp\u001b[0m\u001b[0;34m.\u001b[0m\u001b[0mwhere\u001b[0m\u001b[0;34m(\u001b[0m\u001b[0mtheta\u001b[0m \u001b[0;34m==\u001b[0m \u001b[0;36m0\u001b[0m\u001b[0;34m)\u001b[0m\u001b[0;34m[\u001b[0m\u001b[0;36m0\u001b[0m\u001b[0;34m]\u001b[0m\u001b[0;34m\u001b[0m\u001b[0;34m\u001b[0m\u001b[0m\n\u001b[1;32m     56\u001b[0m         \u001b[0mones_indices\u001b[0m \u001b[0;34m=\u001b[0m \u001b[0mnp\u001b[0m\u001b[0;34m.\u001b[0m\u001b[0mwhere\u001b[0m\u001b[0;34m(\u001b[0m\u001b[0mtheta\u001b[0m \u001b[0;34m==\u001b[0m \u001b[0;36m1\u001b[0m\u001b[0;34m)\u001b[0m\u001b[0;34m[\u001b[0m\u001b[0;36m0\u001b[0m\u001b[0;34m]\u001b[0m\u001b[0;34m\u001b[0m\u001b[0;34m\u001b[0m\u001b[0m\n\u001b[0;32m---> 57\u001b[0;31m         \u001b[0mpos_zero\u001b[0m \u001b[0;34m=\u001b[0m \u001b[0mnp\u001b[0m\u001b[0;34m.\u001b[0m\u001b[0mrandom\u001b[0m\u001b[0;34m.\u001b[0m\u001b[0mchoice\u001b[0m\u001b[0;34m(\u001b[0m\u001b[0mzeros_indices\u001b[0m\u001b[0;34m)\u001b[0m\u001b[0;34m\u001b[0m\u001b[0;34m\u001b[0m\u001b[0m\n\u001b[0m\u001b[1;32m     58\u001b[0m         \u001b[0mpos_one\u001b[0m \u001b[0;34m=\u001b[0m \u001b[0mnp\u001b[0m\u001b[0;34m.\u001b[0m\u001b[0mrandom\u001b[0m\u001b[0;34m.\u001b[0m\u001b[0mchoice\u001b[0m\u001b[0;34m(\u001b[0m\u001b[0mones_indices\u001b[0m\u001b[0;34m)\u001b[0m\u001b[0;34m\u001b[0m\u001b[0;34m\u001b[0m\u001b[0m\n\u001b[1;32m     59\u001b[0m \u001b[0;34m\u001b[0m\u001b[0m\n",
      "\u001b[0;31mKeyboardInterrupt\u001b[0m: "
     ]
    }
   ],
   "source": [
    "losses_with_different_m = []\n",
    "m_values = np.arange(10, 250, 20)\n",
    "\n",
    "for m_value in  m_values: \n",
    "    # for the different values of m only save the last loss (after doing all the iterations)\n",
    "    print(f'running MC for m={m_value}')\n",
    "    beta =  0.001\n",
    "    increase_every = 1500\n",
    "    multiplicative_increase =  1.0005\n",
    "    beta, mse, n_iterations = run_multiple_experiments(15, beta, m_value, d3, s3, fixed_ones=True, sign=True, \n",
    "                                                 iterations = iterations3, change_beta_every= increase_every, update_beta= multiplicative_increase)\n",
    "    print(n_iterations)\n",
    "    losses_with_different_m.append(mse)\n",
    "\n",
    "\n",
    "plt.plot(m_values, losses_with_different_m) # always changes\n",
    "plt.ylabel('MSE')\n",
    "plt.xlabel('Number of samples over dimensions (m)')\n",
    "plt.title('MSE with different number of samples m')\n",
    "plt.tight_layout()\n",
    "\n",
    "plt.savefig('img/q3_ex2_minimum_m_to_recover.jpg')\n"
   ]
  }
 ],
 "metadata": {
  "kernelspec": {
   "display_name": "Python 3",
   "language": "python",
   "name": "python3"
  },
  "language_info": {
   "codemirror_mode": {
    "name": "ipython",
    "version": 3
   },
   "file_extension": ".py",
   "mimetype": "text/x-python",
   "name": "python",
   "nbconvert_exporter": "python",
   "pygments_lexer": "ipython3",
   "version": "3.10.12"
  }
 },
 "nbformat": 4,
 "nbformat_minor": 2
}
