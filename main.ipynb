{
 "cells": [
  {
   "cell_type": "code",
   "execution_count": 1,
   "metadata": {},
   "outputs": [],
   "source": [
    "%load_ext autoreload\n",
    "%autoreload 2\n",
    "\n",
    "import numpy as np\n",
    "import random\n",
    "from scipy.stats import norm\n",
    "import concurrent.futures\n",
    "from run_experiments import * \n",
    "import matplotlib.pyplot as plt"
   ]
  },
  {
   "cell_type": "markdown",
   "metadata": {},
   "source": [
    "# Question 1"
   ]
  },
  {
   "cell_type": "code",
   "execution_count": 2,
   "metadata": {},
   "outputs": [],
   "source": [
    "# init parameters, same for question 1 and 2\n",
    "m = 2000\n",
    "d = 2000\n",
    "s = d/100\n",
    "iterations = 100*d"
   ]
  },
  {
   "cell_type": "code",
   "execution_count": 4,
   "metadata": {},
   "outputs": [
    {
     "data": {
      "text/plain": [
       "[<matplotlib.lines.Line2D at 0x7f15aa79b340>]"
      ]
     },
     "execution_count": 4,
     "metadata": {},
     "output_type": "execute_result"
    },
    {
     "data": {
      "image/png": "[encoded data removed]",
      "text/plain": [
       "<Figure size 640x480 with 1 Axes>"
      ]
     },
     "metadata": {},
     "output_type": "display_data"
    }
   ],
   "source": [
    "# check everything is working \n",
    "beta = 10\n",
    "run_exp = RunExperiment(beta, m, d, s)\n",
    "plt.plot(run_exp.get_sampling_losses(iterations))"
   ]
  },
  {
   "cell_type": "code",
   "execution_count": 42,
   "metadata": {},
   "outputs": [
    {
     "name": "stdout",
     "output_type": "stream",
     "text": [
      "beta= 10\n",
      "beta= 20\n",
      "beta= 30\n",
      "beta= 50\n",
      "beta= 80\n",
      "beta= 100\n",
      "beta= 200\n",
      "beta= 500\n",
      "beta= 1000\n",
      "beta= 10 n_iterations= 39986.2 0.0\n"
     ]
    }
   ],
   "source": [
    "# start by running by repeating only once (just to get a general idea), then for fine-graining increase\n",
    "best_beta = 0\n",
    "best_loss = math.inf\n",
    "best_iterations = math.inf\n",
    "\n",
    "for beta in [3, 5, 10, 20, 50, 100]: \n",
    "    print('beta=', beta)\n",
    "    loss, n_iterations = run_multiple_experiments(10, beta, m, d, s, fixed_ones=False, sign=False, iterations = iterations)\n",
    "\n",
    "    if loss <= best_loss and n_iterations <= best_iterations: \n",
    "        best_beta = beta\n",
    "        best_loss = loss\n",
    "        best_iterations = n_iterations\n",
    "\n",
    "print('beta=', best_beta, 'n_iterations=',best_iterations, best_loss)"
   ]
  },
  {
   "cell_type": "code",
   "execution_count": 62,
   "metadata": {},
   "outputs": [
    {
     "data": {
      "text/plain": [
       "[<matplotlib.lines.Line2D at 0x7fd9f99d0430>]"
      ]
     },
     "execution_count": 62,
     "metadata": {},
     "output_type": "execute_result"
    },
    {
     "data": {
      "image/png": "[encoded data removed]",
      "text/plain": [
       "<Figure size 432x288 with 1 Axes>"
      ]
     },
     "metadata": {
      "needs_background": "light"
     },
     "output_type": "display_data"
    }
   ],
   "source": [
    "run_exp = RunExperiment(5, m, d, s, fixed_ones=True)\n",
    "res = run_exp.get_sampling_losses(100000, change_beta_every= 5000, update_beta=lambda x : x * 1.4)\n",
    "plt.plot(res, label = 'beta=100')"
   ]
  },
  {
   "cell_type": "code",
   "execution_count": 74,
   "metadata": {},
   "outputs": [
    {
     "name": "stdout",
     "output_type": "stream",
     "text": [
      "{'beta_start': 0.01, 'increase_every': 2, 'multiplicative_increase': 1.00001} required_iterations 40314.2\n"
     ]
    },
    {
     "name": "stderr",
     "output_type": "stream",
     "text": [
      "/home/stefano/Documents/EPFL/MC/MC-project/run_experiments.py:86: RuntimeWarning: overflow encountered in exp\n",
      "  comp = np.exp(-self.beta * (new_noise - old_noise))\n",
      "/home/stefano/Documents/EPFL/MC/MC-project/run_experiments.py:86: RuntimeWarning: overflow encountered in double_scalars\n",
      "  comp = np.exp(-self.beta * (new_noise - old_noise))\n"
     ]
    },
    {
     "name": "stdout",
     "output_type": "stream",
     "text": [
      "{'beta_start': 0.01, 'increase_every': 10, 'multiplicative_increase': 1.00001} required_iterations 36663.0\n",
      "{'beta_start': 1, 'increase_every': 2, 'multiplicative_increase': 1.00001} required_iterations 36555.8\n",
      "{'beta_start': 10, 'increase_every': 1500, 'multiplicative_increase': 1.00001} required_iterations 36404.2\n",
      "0.0 36404.2\n",
      "{'beta_start': 10, 'increase_every': 1500, 'multiplicative_increase': 1.00001}\n"
     ]
    }
   ],
   "source": [
    "# start by running by repeating only once (just to get a general idea), then for fine-graining increase\n",
    "# searching for best beta and simulation technique\n",
    "best_mse = math.inf\n",
    "best_n_iterations = math.inf\n",
    "best_params = None\n",
    "\n",
    "repeat_experiment_n = 1\n",
    "for beta_start in [0.01, 0.05, 0.1, 0.5, 1, 5, 10]: \n",
    "    for increse_every in [2, 5, 10, 100, 1000, 1500, 2000, 3000]: \n",
    "        for multiplicative_increase in [1.00001,1.0001, 1.0005, 1.001, 1.01, 1.1, 1.2, 1.3]:\n",
    "            mse, required_iterations = run_multiple_experiments(5, beta, m, d, s, fixed_ones=False, sign=False, iterations = iterations, change_beta_every= increse_every, update_beta=lambda x : x * multiplicative_increase)\n",
    "            # mse, required_iterations = run_multiple_experiments(repeat_experiment_n, get_simulation_annealing_losses, iterations, beta_start, m, d, increse_every, lambda x : x * multiplicative_increase)\n",
    "            if mse <= best_mse and required_iterations <= best_n_iterations: \n",
    "                best_mse = mse\n",
    "                best_n_iterations = required_iterations\n",
    "                best_params_and_scores = {'beta_start': beta_start, 'increase_every': increse_every, 'multiplicative_increase' : multiplicative_increase}\n",
    "                print(best_params_and_scores, 'required_iterations', required_iterations)\n",
    "\n",
    "print(best_mse, best_n_iterations)\n",
    "print(best_params_and_scores)"
   ]
  },
  {
   "cell_type": "code",
   "execution_count": 10,
   "metadata": {},
   "outputs": [
    {
     "name": "stdout",
     "output_type": "stream",
     "text": [
      "running MC for m=200\n",
      "[0.9430000000000001, 0.913, 0.928, 0.869, 0.885, 0.911, 0.9390000000000001, 0.907, 0.867, 0.896, 0.887, 0.9440000000000001, 0.918, 0.872, 0.866]\n",
      "running MC for m=400\n",
      "[0.784, 0.777, 0.845, 0.8180000000000001, 0.8140000000000001, 0.757, 0.787, 0.795, 0.795, 0.79, 0.788, 0.801, 0.835, 0.801, 0.798]\n",
      "running MC for m=600\n",
      "[0.678, 0.722, 0.683, 0.677, 0.724, 0.726, 0.765, 0.71, 0.724, 0.716, 0.6930000000000001, 0.756, 0.673, 0.68, 0.729]\n",
      "running MC for m=800\n",
      "[0.61, 0.616, 0.609, 0.619, 0.646, 0.583, 0.632, 0.611, 0.62, 0.646, 0.581, 0.602, 0.656, 0.581, 0.621]\n",
      "running MC for m=1000\n",
      "[0.551, 0.466, 0.47000000000000003, 0.464, 0.527, 0.549, 0.493, 0.515, 0.487, 0.488, 0.442, 0.498, 0.524, 0.494, 0.499]\n",
      "running MC for m=1200\n",
      "[0.364, 0.29, 0.387, 0.359, 0.304, 0.34800000000000003, 0.468, 0.433, 0.332, 0.372, 0.426, 0.432, 0.34, 0.362, 0.381]\n",
      "running MC for m=1400\n",
      "[0.0, 0.0, 0.0, 0.0, 0.0, 0.0, 0.0, 0.0, 0.0, 0.0, 0.0, 0.0, 0.0, 0.0, 0.0]\n",
      "running MC for m=1600\n",
      "[0.0, 0.0, 0.0, 0.0, 0.0, 0.0, 0.0, 0.0, 0.0, 0.0, 0.0, 0.0, 0.0, 0.0, 0.0]\n",
      "running MC for m=1800\n",
      "[0.0, 0.0, 0.0, 0.0, 0.0, 0.0, 0.0, 0.0, 0.0, 0.0, 0.0, 0.0, 0.0, 0.0, 0.0]\n",
      "running MC for m=2000\n",
      "[0.0, 0.0, 0.0, 0.0, 0.0, 0.0, 0.0, 0.0, 0.0, 0.0, 0.0, 0.0, 0.0, 0.0, 0.0]\n"
     ]
    },
    {
     "data": {
      "image/png": "[encoded data removed]",
      "text/plain": [
       "<Figure size 432x288 with 1 Axes>"
      ]
     },
     "metadata": {
      "needs_background": "light"
     },
     "output_type": "display_data"
    }
   ],
   "source": [
    "losses_with_different_m = []\n",
    "m_values = np.arange(200 , 2200, 200)\n",
    "\n",
    "for m_value in  m_values: \n",
    "    # for the different values of m only save the last loss (after doing all the iterations)\n",
    "    print(f'running MC for m={m_value}')\n",
    "    beta =  10\n",
    "    increase_every = 1500\n",
    "    multiplicative_increase =  1.00001\n",
    "    beta, mse, n_iterations = run_multiple_experiments(15, beta, m_value, d, s, fixed_ones=False, sign=False, iterations = iterations\n",
    "                                                 , change_beta_every= increase_every, update_beta=lambda x : x * multiplicative_increase)\n",
    "    \n",
    "    print(mse)\n",
    "    losses_with_different_m.append(mse)\n",
    "\n",
    "# Plot confidence intervals as error bars\n",
    "plt.errorbar(m_values, np.array(losses_with_different_m).mean(axis = 1), \n",
    "             yerr= np.array(losses_with_different_m).std(axis = 1) / np.sqrt(15), fmt='o', label='Confidence Intervals')\n",
    "\n",
    "\n",
    "plt.plot(m_values, np.array(losses_with_different_m).mean(axis = 1)) # always changes\n",
    "plt.ylabel('MSE')\n",
    "plt.xlabel('Number of samples over dimensions (m)')\n",
    "plt.title('MSE with different number of samples m')\n",
    "plt.tight_layout()\n",
    "\n",
    "plt.savefig('img/q1_ex6_minimum_m_to_recover.jpg')\n"
   ]
  },
  {
   "cell_type": "markdown",
   "metadata": {},
   "source": [
    "# Question 2"
   ]
  },
  {
   "cell_type": "code",
   "execution_count": 5,
   "metadata": {},
   "outputs": [
    {
     "name": "stderr",
     "output_type": "stream",
     "text": [
      "/home/stefano/Documents/EPFL/projects/MC_project/run_experiments.py:89: RuntimeWarning: overflow encountered in exp\n",
      "  comp = np.exp(-self.beta * (new_noise - old_noise))\n"
     ]
    },
    {
     "data": {
      "text/plain": [
       "[<matplotlib.lines.Line2D at 0x7f15aacad420>]"
      ]
     },
     "execution_count": 5,
     "metadata": {},
     "output_type": "execute_result"
    },
    {
     "data": {
      "image/png": "[encoded data removed]",
      "text/plain": [
       "<Figure size 640x480 with 1 Axes>"
      ]
     },
     "metadata": {},
     "output_type": "display_data"
    }
   ],
   "source": [
    "run_exp = RunExperiment(1000, m, d, s, fixed_ones=True)\n",
    "\n",
    "plt.plot(run_exp.get_sampling_losses(100000), label = 'beta=100')"
   ]
  },
  {
   "cell_type": "code",
   "execution_count": null,
   "metadata": {},
   "outputs": [],
   "source": [
    "# start by running by repeating only once (just to get a general idea), then for fine-graining increase\n",
    "best_beta = 0\n",
    "best_loss = math.inf\n",
    "best_iterations = math.inf\n",
    "\n",
    "for beta in [10, 20, 30, 50, 80, 100, 200, 500, 1000]: \n",
    "    print('beta=', beta)\n",
    "    loss, n_iterations = run_multiple_experiments(10, beta, m, d, s, fixed_ones=True, sign=False, iterations = iterations)\n",
    "\n",
    "    if loss <= best_loss and n_iterations <= best_iterations: \n",
    "        best_beta = beta\n",
    "        best_loss = loss\n",
    "        best_iterations = n_iterations\n",
    "\n",
    "print('beta=', best_beta, 'n_iterations=',best_iterations, best_loss)"
   ]
  },
  {
   "cell_type": "code",
   "execution_count": null,
   "metadata": {},
   "outputs": [],
   "source": [
    "best_mse = math.inf\n",
    "best_n_iterations = math.inf\n",
    "best_params = None\n",
    "\n",
    "repeat_experiment_n = 1\n",
    "for beta_start in [0.01, 0.05, 0.1, 0.5, 1, 5, 10]: \n",
    "    for increse_every in [2, 5, 10, 100, 1000, 1500, 2000, 3000]: \n",
    "        for multiplicative_increase in [1.00001,1.0001, 1.0005, 1.001, 1.01, 1.1, 1.2, 1.3]:\n",
    "            mse, required_iterations = run_multiple_experiments(5, beta, m, d, s, fixed_ones=True, sign=False, iterations = iterations, change_beta_every= increse_every, update_beta=lambda x : x * multiplicative_increase)\n",
    "            # mse, required_iterations = run_multiple_experiments(repeat_experiment_n, get_simulation_annealing_losses, iterations, beta_start, m, d, increse_every, lambda x : x * multiplicative_increase)\n",
    "            if mse <= best_mse and required_iterations <= best_n_iterations: \n",
    "                best_mse = mse\n",
    "                best_n_iterations = required_iterations\n",
    "                best_params_and_scores = {'beta_start': beta_start, 'increase_every': increse_every, 'multiplicative_increase' : multiplicative_increase}\n",
    "                print(best_params_and_scores, 'required_iterations', required_iterations)\n",
    "\n",
    "print(best_mse, best_n_iterations)\n",
    "print(best_params_and_scores)"
   ]
  },
  {
   "cell_type": "code",
   "execution_count": 13,
   "metadata": {},
   "outputs": [
    {
     "name": "stdout",
     "output_type": "stream",
     "text": [
      "running MC for m=50\n",
      "[0.9, 0.9, 1.0, 0.8500000000000001, 0.8500000000000001, 0.9500000000000001, 1.0, 0.9, 0.7000000000000001, 1.0, 0.9500000000000001, 0.9500000000000001, 1.0, 0.9500000000000001, 0.9]\n",
      "running MC for m=70\n",
      "[1.0, 0.8500000000000001, 0.9, 0.8500000000000001, 0.9, 0.6000000000000001, 0.8, 0.9500000000000001, 0.8500000000000001, 0.75, 1.0, 0.9500000000000001, 1.0, 0.75, 0.9500000000000001]\n",
      "running MC for m=90\n",
      "[0.8, 0.8, 0.7000000000000001, 0.8, 0.75, 0.8, 0.8500000000000001, 0.6000000000000001, 0.9, 0.7000000000000001, 0.8500000000000001, 0.55, 0.8500000000000001, 0.9500000000000001, 0.9]\n",
      "running MC for m=110\n",
      "[0.7000000000000001, 0.55, 0.8500000000000001, 0.75, 0.45, 0.65, 0.75, 0.45, 0.6000000000000001, 0.8, 0.8, 0.75, 0.75, 0.9, 0.8]\n",
      "running MC for m=130\n",
      "[0.7000000000000001, 0.5, 0.30000000000000004, 0.2, 0.0, 0.1, 0.0, 0.75, 0.6000000000000001, 0.0, 0.0, 0.7000000000000001, 0.05, 0.5, 0.75]\n",
      "running MC for m=150\n",
      "[0.0, 0.0, 0.0, 0.0, 0.0, 0.0, 0.0, 0.0, 0.0, 0.0, 0.0, 0.0, 0.0, 0.8, 0.4]\n",
      "running MC for m=170\n",
      "[0.0, 0.0, 0.0, 0.0, 0.0, 0.0, 0.0, 0.0, 0.0, 0.0, 0.0, 0.0, 0.0, 0.0, 0.0]\n",
      "running MC for m=190\n",
      "[0.0, 0.0, 0.0, 0.0, 0.0, 0.0, 0.0, 0.0, 0.0, 0.0, 0.0, 0.0, 0.0, 0.0, 0.0]\n",
      "running MC for m=210\n",
      "[0.0, 0.0, 0.0, 0.0, 0.0, 0.0, 0.0, 0.0, 0.0, 0.0, 0.0, 0.0, 0.0, 0.0, 0.0]\n",
      "running MC for m=230\n",
      "[0.0, 0.0, 0.0, 0.0, 0.0, 0.0, 0.0, 0.0, 0.0, 0.05, 0.0, 0.0, 0.0, 0.0, 0.0]\n"
     ]
    },
    {
     "data": {
      "image/png": "[encoded data removed]",
      "text/plain": [
       "<Figure size 432x288 with 1 Axes>"
      ]
     },
     "metadata": {
      "needs_background": "light"
     },
     "output_type": "display_data"
    }
   ],
   "source": [
    "\n",
    "\n",
    "losses_with_different_m = []\n",
    "m_values = np.arange(50 , 250, 20)\n",
    "\n",
    "for m_value in  m_values: \n",
    "    # for the different values of m only save the last loss (after doing all the iterations)\n",
    "    print(f'running MC for m={m_value}')\n",
    "    beta =  10\n",
    "\n",
    "    beta, mse, n_iterations = run_multiple_experiments(15, beta, m_value, d, s, fixed_ones=True, sign=False, iterations = iterations)\n",
    "    \n",
    "    print(mse)\n",
    "    losses_with_different_m.append(mse)\n",
    "\n",
    "# Plot confidence intervals as error bars\n",
    "plt.errorbar(m_values, np.array(losses_with_different_m).mean(axis = 1), \n",
    "             yerr= np.array(losses_with_different_m).std(axis = 1) / np.sqrt(15), fmt='o', label='Confidence Intervals')\n",
    "\n",
    "\n",
    "plt.plot(m_values, np.array(losses_with_different_m).mean(axis = 1)) # always changes\n",
    "plt.ylabel('MSE')\n",
    "plt.xlabel('Number of samples over dimensions (m)')\n",
    "plt.title('MSE with different number of samples m')\n",
    "plt.tight_layout()\n",
    "\n",
    "plt.savefig('img/q2_ex3_minimum_m_to_recover.jpg')\n"
   ]
  },
  {
   "cell_type": "markdown",
   "metadata": {},
   "source": [
    "# Question 3"
   ]
  },
  {
   "cell_type": "code",
   "execution_count": 18,
   "metadata": {},
   "outputs": [
    {
     "name": "stderr",
     "output_type": "stream",
     "text": [
      "/home/stefano/Documents/EPFL/MC/MC-project/compute_noise.py:68: RuntimeWarning: divide by zero encountered in log\n",
      "  return -(np.log(alpha[self.ones_indices]).sum() + np.log(1 - alpha[self.min_one_indices]).sum())\n",
      "/home/stefano/Documents/EPFL/MC/MC-project/run_experiments.py:89: RuntimeWarning: invalid value encountered in double_scalars\n",
      "  comp = np.exp(-self.beta * (new_noise - old_noise))\n"
     ]
    },
    {
     "data": {
      "text/plain": [
       "[<matplotlib.lines.Line2D at 0x7f3d9870d6c0>]"
      ]
     },
     "execution_count": 18,
     "metadata": {},
     "output_type": "execute_result"
    },
    {
     "data": {
      "image/png": "[encoded data removed]",
      "text/plain": [
       "<Figure size 432x288 with 1 Axes>"
      ]
     },
     "metadata": {
      "needs_background": "light"
     },
     "output_type": "display_data"
    }
   ],
   "source": [
    "m3 = 2000\n",
    "d3 = 1000\n",
    "s3 = d3/100\n",
    "#beta = 2\n",
    "iterations3 = 100*d3\n",
    "\n",
    "run_exp = RunExperiment(1, m3, d3, s3, fixed_ones=True, sign= True)\n",
    "\n",
    "plt.plot(run_exp.get_sampling_losses(iterations3), label = 'beta=100')"
   ]
  },
  {
   "cell_type": "code",
   "execution_count": null,
   "metadata": {},
   "outputs": [],
   "source": [
    "# start by running by repeating only once (just to get a general idea), then for fine-graining increase\n",
    "best_beta = 0\n",
    "best_loss = math.inf\n",
    "best_iterations = math.inf\n",
    "\n",
    "for beta in [10, 20, 30, 50, 80, 100, 200, 500, 1000]: \n",
    "    print('beta=', beta)\n",
    "    loss, n_iterations = run_multiple_experiments(10, beta, m, d, s, fixed_ones=True, sign=True, iterations = iterations)\n",
    "\n",
    "    if loss <= best_loss and n_iterations <= best_iterations: \n",
    "        best_beta = beta\n",
    "        best_loss = loss\n",
    "        best_iterations = n_iterations\n",
    "\n",
    "print('beta=', best_beta, 'n_iterations=',best_iterations, best_loss)"
   ]
  },
  {
   "cell_type": "code",
   "execution_count": null,
   "metadata": {},
   "outputs": [],
   "source": [
    "best_mse = math.inf\n",
    "best_n_iterations = math.inf\n",
    "best_params = None\n",
    "\n",
    "repeat_experiment_n = 1\n",
    "for beta_start in [0.01, 0.05, 0.1, 0.5, 1, 5, 10]: \n",
    "    for increse_every in [2, 5, 10, 100, 1000, 1500, 2000, 3000]: \n",
    "        for multiplicative_increase in [1.00001,1.0001, 1.0005, 1.001, 1.01, 1.1, 1.2, 1.3]:\n",
    "            mse, required_iterations = run_multiple_experiments(5, beta, m, d, s, fixed_ones=True, sign=True, iterations = iterations, change_beta_every= increse_every, update_beta=lambda x : x * multiplicative_increase)\n",
    "            # mse, required_iterations = run_multiple_experiments(repeat_experiment_n, get_simulation_annealing_losses, iterations, beta_start, m, d, increse_every, lambda x : x * multiplicative_increase)\n",
    "            if mse <= best_mse and required_iterations <= best_n_iterations: \n",
    "                best_mse = mse\n",
    "                best_n_iterations = required_iterations\n",
    "                best_params_and_scores = {'beta_start': beta_start, 'increase_every': increse_every, 'multiplicative_increase' : multiplicative_increase}\n",
    "                print(best_params_and_scores, 'required_iterations', required_iterations)\n",
    "\n",
    "print(best_mse, best_n_iterations)\n",
    "print(best_params_and_scores)"
   ]
  },
  {
   "cell_type": "code",
   "execution_count": 20,
   "metadata": {},
   "outputs": [
    {
     "name": "stdout",
     "output_type": "stream",
     "text": [
      "running MC for m=20\n"
     ]
    },
    {
     "name": "stderr",
     "output_type": "stream",
     "text": [
      "/home/stefano/Documents/EPFL/MC/MC-project/run_experiments.py:89: RuntimeWarning: overflow encountered in exp\n",
      "  comp = np.exp(-self.beta * (new_noise - old_noise))\n",
      "/home/stefano/Documents/EPFL/MC/MC-project/run_experiments.py:89: RuntimeWarning: overflow encountered in double_scalars\n",
      "  comp = np.exp(-self.beta * (new_noise - old_noise))\n",
      "/home/stefano/Documents/EPFL/MC/MC-project/compute_noise.py:68: RuntimeWarning: divide by zero encountered in log\n",
      "  return -(np.log(alpha[self.ones_indices]).sum() + np.log(1 - alpha[self.min_one_indices]).sum())\n"
     ]
    },
    {
     "name": "stdout",
     "output_type": "stream",
     "text": [
      "100000.0\n",
      "running MC for m=40\n",
      "100000.0\n",
      "running MC for m=60\n"
     ]
    },
    {
     "name": "stderr",
     "output_type": "stream",
     "text": [
      "/home/stefano/Documents/EPFL/MC/MC-project/run_experiments.py:89: RuntimeWarning: invalid value encountered in double_scalars\n",
      "  comp = np.exp(-self.beta * (new_noise - old_noise))\n"
     ]
    },
    {
     "name": "stdout",
     "output_type": "stream",
     "text": [
      "100000.0\n",
      "running MC for m=80\n",
      "100000.0\n",
      "running MC for m=100\n",
      "100000.0\n",
      "running MC for m=120\n",
      "86003.0\n",
      "running MC for m=140\n",
      "84175.1\n",
      "running MC for m=160\n",
      "86082.3\n",
      "running MC for m=180\n",
      "42144.6\n",
      "running MC for m=200\n",
      "32326.6\n",
      "running MC for m=220\n",
      "17238.0\n",
      "running MC for m=240\n",
      "19599.8\n"
     ]
    },
    {
     "data": {
      "image/png": "[encoded data removed]",
      "text/plain": [
       "<Figure size 432x288 with 1 Axes>"
      ]
     },
     "metadata": {
      "needs_background": "light"
     },
     "output_type": "display_data"
    }
   ],
   "source": [
    "losses_with_different_m = []\n",
    "m_values = np.arange(20 , 250, 20)\n",
    "\n",
    "for m_value in  m_values: \n",
    "    # for the different values of m only save the last loss (after doing all the iterations)\n",
    "    print(f'running MC for m={m_value}')\n",
    "    beta =  5\n",
    "    increase_every = 1000\n",
    "    multiplicative_increase =  1.01\n",
    "    beta, mse, n_iterations = run_multiple_experiments(10, beta, m_value, d3, s3, fixed_ones=True, sign=True, iterations = iterations3, change_beta_every= increase_every, update_beta=multiplicative_increase)\n",
    "    print(n_iterations)\n",
    "    losses_with_different_m.append(mse)\n",
    "\n",
    "\n",
    "plt.errorbar(m_values, np.array(losses_with_different_m).mean(axis = 1), \n",
    "             yerr= np.array(losses_with_different_m).std(axis = 1) / np.sqrt(15), fmt='o', label='Confidence Intervals')\n",
    "\n",
    "\n",
    "plt.plot(m_values, np.array(losses_with_different_m).mean(axis = 1)) # always changes\n",
    "plt.ylabel('MSE')\n",
    "plt.xlabel('Number of samples over dimensions (m)')\n",
    "plt.title('MSE with different number of samples m')\n",
    "plt.tight_layout()\n",
    "\n",
    "plt.savefig('img/q2_ex3_minimum_m_to_recover.jpg')\n"
   ]
  }
 ],
 "metadata": {
  "kernelspec": {
   "display_name": "Python 3",
   "language": "python",
   "name": "python3"
  },
  "language_info": {
   "codemirror_mode": {
    "name": "ipython",
    "version": 3
   },
   "file_extension": ".py",
   "mimetype": "text/x-python",
   "name": "python",
   "nbconvert_exporter": "python",
   "pygments_lexer": "ipython3",
   "version": "3.10.12"
  }
 },
 "nbformat": 4,
 "nbformat_minor": 2
}
