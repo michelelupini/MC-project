{
 "cells": [
  {
   "cell_type": "code",
   "execution_count": 1,
   "metadata": {
    "tags": []
   },
   "outputs": [],
   "source": [
    "%load_ext autoreload\n",
    "%autoreload 2\n",
    "\n",
    "import numpy as np\n",
    "import random\n",
    "from scipy.stats import norm\n",
    "import concurrent.futures\n",
    "from utilities import *\n",
    "import matplotlib.pyplot as plt"
   ]
  },
  {
   "cell_type": "markdown",
   "metadata": {},
   "source": [
    "# Question 1"
   ]
  },
  {
   "cell_type": "code",
   "execution_count": 2,
   "metadata": {
    "tags": []
   },
   "outputs": [],
   "source": [
    "# init parameters, same for question 1 and 2\n",
    "m = 2000\n",
    "d = 2000\n",
    "s = d/100\n",
    "beta = 2\n",
    "iterations = 100*d"
   ]
  },
  {
   "cell_type": "markdown",
   "metadata": {},
   "source": [
    "## Hyperparameter tuning"
   ]
  },
  {
   "cell_type": "code",
   "execution_count": 83,
   "metadata": {},
   "outputs": [],
   "source": []
  },
  {
   "cell_type": "code",
   "execution_count": 6,
   "metadata": {},
   "outputs": [
    {
     "name": "stdout",
     "output_type": "stream",
     "text": [
      "0.23384976387023926\n"
     ]
    }
   ],
   "source": [
    "test_trick()"
   ]
  },
  {
   "cell_type": "code",
   "execution_count": 9,
   "metadata": {},
   "outputs": [
    {
     "ename": "KeyboardInterrupt",
     "evalue": "",
     "output_type": "error",
     "traceback": [
      "\u001b[0;31m---------------------------------------------------------------------------\u001b[0m",
      "\u001b[0;31mKeyboardInterrupt\u001b[0m                         Traceback (most recent call last)",
      "\u001b[0;32m/tmp/ipykernel_37520/2715225262.py\u001b[0m in \u001b[0;36m<module>\u001b[0;34m\u001b[0m\n\u001b[1;32m      1\u001b[0m \u001b[0;31m# try different beta in order 15 simulations for each, print final loss and number of iterations\u001b[0m\u001b[0;34m\u001b[0m\u001b[0;34m\u001b[0m\u001b[0m\n\u001b[1;32m      2\u001b[0m \u001b[0mrepeat_experiment_n\u001b[0m \u001b[0;34m=\u001b[0m \u001b[0;36m15\u001b[0m\u001b[0;34m\u001b[0m\u001b[0;34m\u001b[0m\u001b[0m\n\u001b[0;32m----> 3\u001b[0;31m \u001b[0mprint\u001b[0m\u001b[0;34m(\u001b[0m\u001b[0;34m'beta = 1'\u001b[0m\u001b[0;34m,\u001b[0m \u001b[0mrun_multiple_experiments\u001b[0m\u001b[0;34m(\u001b[0m\u001b[0mrepeat_experiment_n\u001b[0m\u001b[0;34m,\u001b[0m \u001b[0mget_sampling_losses\u001b[0m\u001b[0;34m,\u001b[0m \u001b[0miterations\u001b[0m\u001b[0;34m,\u001b[0m \u001b[0;36m1\u001b[0m\u001b[0;34m,\u001b[0m \u001b[0mm\u001b[0m\u001b[0;34m,\u001b[0m \u001b[0md\u001b[0m\u001b[0;34m)\u001b[0m\u001b[0;34m)\u001b[0m\u001b[0;34m\u001b[0m\u001b[0;34m\u001b[0m\u001b[0m\n\u001b[0m\u001b[1;32m      4\u001b[0m \u001b[0;31m# print('beta = 5', run_multiple_experiments(repeat_experiment_n, get_sampling_losses, iterations, 5, m, d))\u001b[0m\u001b[0;34m\u001b[0m\u001b[0;34m\u001b[0m\u001b[0m\n\u001b[1;32m      5\u001b[0m \u001b[0;31m# print('beta = 10', run_multiple_experiments(repeat_experiment_n, get_sampling_losses, iterations, 10, m, d))\u001b[0m\u001b[0;34m\u001b[0m\u001b[0;34m\u001b[0m\u001b[0m\n",
      "\u001b[0;32m~/Documents/EPFL/MC/MC-project/utilities.py\u001b[0m in \u001b[0;36mrun_multiple_experiments\u001b[0;34m(repeat_n_times, get_samples, *args)\u001b[0m\n\u001b[1;32m    157\u001b[0m \u001b[0;34m\u001b[0m\u001b[0m\n\u001b[1;32m    158\u001b[0m     \u001b[0;32mfor\u001b[0m \u001b[0mi\u001b[0m \u001b[0;32min\u001b[0m \u001b[0mrange\u001b[0m\u001b[0;34m(\u001b[0m\u001b[0mrepeat_n_times\u001b[0m\u001b[0;34m)\u001b[0m\u001b[0;34m:\u001b[0m\u001b[0;34m\u001b[0m\u001b[0;34m\u001b[0m\u001b[0m\n\u001b[0;32m--> 159\u001b[0;31m         \u001b[0merrors\u001b[0m \u001b[0;34m=\u001b[0m \u001b[0mget_samples\u001b[0m\u001b[0;34m(\u001b[0m\u001b[0;34m*\u001b[0m\u001b[0margs\u001b[0m\u001b[0;34m)\u001b[0m\u001b[0;34m\u001b[0m\u001b[0;34m\u001b[0m\u001b[0m\n\u001b[0m\u001b[1;32m    160\u001b[0m         \u001b[0mlist_errors\u001b[0m\u001b[0;34m.\u001b[0m\u001b[0mappend\u001b[0m\u001b[0;34m(\u001b[0m\u001b[0merrors\u001b[0m\u001b[0;34m[\u001b[0m\u001b[0;34m-\u001b[0m\u001b[0;36m1\u001b[0m\u001b[0;34m]\u001b[0m\u001b[0;34m)\u001b[0m\u001b[0;34m\u001b[0m\u001b[0;34m\u001b[0m\u001b[0m\n\u001b[1;32m    161\u001b[0m         \u001b[0mnumber_iterations\u001b[0m\u001b[0;34m.\u001b[0m\u001b[0mappend\u001b[0m\u001b[0;34m(\u001b[0m\u001b[0mlen\u001b[0m\u001b[0;34m(\u001b[0m\u001b[0merrors\u001b[0m\u001b[0;34m)\u001b[0m\u001b[0;34m)\u001b[0m\u001b[0;34m\u001b[0m\u001b[0;34m\u001b[0m\u001b[0m\n",
      "\u001b[0;32m~/Documents/EPFL/MC/MC-project/utilities.py\u001b[0m in \u001b[0;36mget_sampling_losses\u001b[0;34m(iterations, beta, m, d)\u001b[0m\n\u001b[1;32m    188\u001b[0m         \u001b[0;31m# compute error\u001b[0m\u001b[0;34m\u001b[0m\u001b[0;34m\u001b[0m\u001b[0m\n\u001b[1;32m    189\u001b[0m         \u001b[0mmse_val\u001b[0m \u001b[0;34m=\u001b[0m \u001b[0;34m(\u001b[0m\u001b[0;34m(\u001b[0m\u001b[0mtheta\u001b[0m\u001b[0;34m-\u001b[0m\u001b[0mtheta_true\u001b[0m\u001b[0;34m)\u001b[0m\u001b[0;34m**\u001b[0m\u001b[0;36m2\u001b[0m\u001b[0;34m)\u001b[0m\u001b[0;34m.\u001b[0m\u001b[0msum\u001b[0m\u001b[0;34m(\u001b[0m\u001b[0;34m)\u001b[0m\u001b[0;34m*\u001b[0m\u001b[0;34m(\u001b[0m\u001b[0;36m2\u001b[0m\u001b[0;34m/\u001b[0m\u001b[0md\u001b[0m\u001b[0;34m)\u001b[0m\u001b[0;34m\u001b[0m\u001b[0;34m\u001b[0m\u001b[0m\n\u001b[0;32m--> 190\u001b[0;31m         \u001b[0merrors\u001b[0m\u001b[0;34m.\u001b[0m\u001b[0mappend\u001b[0m\u001b[0;34m(\u001b[0m\u001b[0mmse_val\u001b[0m\u001b[0;34m)\u001b[0m\u001b[0;34m\u001b[0m\u001b[0;34m\u001b[0m\u001b[0m\n\u001b[0m\u001b[1;32m    191\u001b[0m \u001b[0;34m\u001b[0m\u001b[0m\n\u001b[1;32m    192\u001b[0m         \u001b[0;31m# early stopping\u001b[0m\u001b[0;34m\u001b[0m\u001b[0;34m\u001b[0m\u001b[0m\n",
      "\u001b[0;31mKeyboardInterrupt\u001b[0m: "
     ]
    }
   ],
   "source": [
    "# try different beta in order 15 simulations for each, print final loss and number of iterations\n",
    "repeat_experiment_n = 15\n",
    "print('beta = 1', run_multiple_experiments(repeat_experiment_n, get_sampling_losses, iterations, 1, m, d)) \n",
    "print('beta = 5', run_multiple_experiments(repeat_experiment_n, get_sampling_losses, iterations, 5, m, d))\n",
    "print('beta = 10', run_multiple_experiments(repeat_experiment_n, get_sampling_losses, iterations, 10, m, d))\n",
    "print('beta = 20', run_multiple_experiments(repeat_experiment_n, get_sampling_losses, iterations, 20, m, d))\n",
    "print('beta = 20', run_multiple_experiments(repeat_experiment_n, get_sampling_losses, iterations, 50, m, d))\n",
    "print('beta = 100', run_multiple_experiments(repeat_experiment_n, get_sampling_losses, iterations, 100, m, d))\n",
    "print('beta = 1000', run_multiple_experiments(repeat_experiment_n, get_sampling_losses, iterations, 1000, m, d))\n",
    "print('beta = 1e4', run_multiple_experiments(repeat_experiment_n, get_sampling_losses, iterations, 1e4, m, d))\n",
    "print('beta = 5e4', run_multiple_experiments(repeat_experiment_n, get_sampling_losses, iterations, 1e5, m, d))"
   ]
  },
  {
   "cell_type": "code",
   "execution_count": 20,
   "metadata": {},
   "outputs": [
    {
     "name": "stderr",
     "output_type": "stream",
     "text": [
      "/home/stefano/Documents/EPFL/MC/MC-project/utilities.py:120: RuntimeWarning: overflow encountered in double_scalars\n",
      "  comp = np.exp(-beta * (noise(X, y, theta1) - noise(X, y, theta)))\n"
     ]
    },
    {
     "ename": "KeyboardInterrupt",
     "evalue": "",
     "output_type": "error",
     "traceback": [
      "\u001b[0;31m---------------------------------------------------------------------------\u001b[0m",
      "\u001b[0;31mKeyboardInterrupt\u001b[0m                         Traceback (most recent call last)",
      "\u001b[0;32m/tmp/ipykernel_19950/1901774506.py\u001b[0m in \u001b[0;36m<module>\u001b[0;34m\u001b[0m\n\u001b[1;32m      9\u001b[0m     \u001b[0;32mfor\u001b[0m \u001b[0mincrese_every\u001b[0m \u001b[0;32min\u001b[0m \u001b[0;34m[\u001b[0m\u001b[0;36m10\u001b[0m\u001b[0;34m,\u001b[0m \u001b[0;36m100\u001b[0m\u001b[0;34m,\u001b[0m \u001b[0;36m1000\u001b[0m\u001b[0;34m,\u001b[0m \u001b[0;36m2000\u001b[0m\u001b[0;34m]\u001b[0m\u001b[0;34m:\u001b[0m\u001b[0;34m\u001b[0m\u001b[0;34m\u001b[0m\u001b[0m\n\u001b[1;32m     10\u001b[0m         \u001b[0;32mfor\u001b[0m \u001b[0mmultiplicative_increase\u001b[0m \u001b[0;32min\u001b[0m \u001b[0;34m[\u001b[0m\u001b[0;36m1.001\u001b[0m\u001b[0;34m,\u001b[0m \u001b[0;36m1.01\u001b[0m\u001b[0;34m,\u001b[0m \u001b[0;36m1.1\u001b[0m\u001b[0;34m,\u001b[0m \u001b[0;36m1.2\u001b[0m\u001b[0;34m]\u001b[0m\u001b[0;34m:\u001b[0m\u001b[0;34m\u001b[0m\u001b[0;34m\u001b[0m\u001b[0m\n\u001b[0;32m---> 11\u001b[0;31m             \u001b[0mmse\u001b[0m\u001b[0;34m,\u001b[0m \u001b[0mrequired_iterations\u001b[0m \u001b[0;34m=\u001b[0m \u001b[0mrun_multiple_experiments\u001b[0m\u001b[0;34m(\u001b[0m\u001b[0mrepeat_experiment_n\u001b[0m\u001b[0;34m,\u001b[0m \u001b[0mget_simulation_annealing_losses\u001b[0m\u001b[0;34m,\u001b[0m \u001b[0miterations\u001b[0m\u001b[0;34m,\u001b[0m \u001b[0mbeta_start\u001b[0m\u001b[0;34m,\u001b[0m \u001b[0mm\u001b[0m\u001b[0;34m,\u001b[0m \u001b[0md\u001b[0m\u001b[0;34m,\u001b[0m \u001b[0mincrese_every\u001b[0m\u001b[0;34m,\u001b[0m \u001b[0;32mlambda\u001b[0m \u001b[0mx\u001b[0m \u001b[0;34m:\u001b[0m \u001b[0mx\u001b[0m \u001b[0;34m*\u001b[0m \u001b[0mmultiplicative_increase\u001b[0m\u001b[0;34m)\u001b[0m\u001b[0;34m\u001b[0m\u001b[0;34m\u001b[0m\u001b[0m\n\u001b[0m\u001b[1;32m     12\u001b[0m             \u001b[0;32mif\u001b[0m \u001b[0mmse\u001b[0m \u001b[0;34m<=\u001b[0m \u001b[0mbest_mse\u001b[0m \u001b[0;32mand\u001b[0m \u001b[0mrequired_iterations\u001b[0m \u001b[0;34m<=\u001b[0m \u001b[0mbest_n_iterations\u001b[0m\u001b[0;34m:\u001b[0m\u001b[0;34m\u001b[0m\u001b[0;34m\u001b[0m\u001b[0m\n\u001b[1;32m     13\u001b[0m                 \u001b[0mbest_mse\u001b[0m \u001b[0;34m=\u001b[0m \u001b[0mmse\u001b[0m\u001b[0;34m\u001b[0m\u001b[0;34m\u001b[0m\u001b[0m\n",
      "\u001b[0;32m~/Documents/EPFL/MC/MC-project/utilities.py\u001b[0m in \u001b[0;36mrun_multiple_experiments\u001b[0;34m(repeat_n_times, get_samples, *args)\u001b[0m\n\u001b[1;32m     72\u001b[0m \u001b[0;34m\u001b[0m\u001b[0m\n\u001b[1;32m     73\u001b[0m     \u001b[0;32mfor\u001b[0m \u001b[0mi\u001b[0m \u001b[0;32min\u001b[0m \u001b[0mrange\u001b[0m\u001b[0;34m(\u001b[0m\u001b[0mrepeat_n_times\u001b[0m\u001b[0;34m)\u001b[0m\u001b[0;34m:\u001b[0m\u001b[0;34m\u001b[0m\u001b[0;34m\u001b[0m\u001b[0m\n\u001b[0;32m---> 74\u001b[0;31m         \u001b[0merrors\u001b[0m \u001b[0;34m=\u001b[0m \u001b[0mget_samples\u001b[0m\u001b[0;34m(\u001b[0m\u001b[0;34m*\u001b[0m\u001b[0margs\u001b[0m\u001b[0;34m)\u001b[0m\u001b[0;34m\u001b[0m\u001b[0;34m\u001b[0m\u001b[0m\n\u001b[0m\u001b[1;32m     75\u001b[0m         \u001b[0mlist_errors\u001b[0m\u001b[0;34m.\u001b[0m\u001b[0mappend\u001b[0m\u001b[0;34m(\u001b[0m\u001b[0merrors\u001b[0m\u001b[0;34m[\u001b[0m\u001b[0;34m-\u001b[0m\u001b[0;36m1\u001b[0m\u001b[0;34m]\u001b[0m\u001b[0;34m)\u001b[0m\u001b[0;34m\u001b[0m\u001b[0;34m\u001b[0m\u001b[0m\n\u001b[1;32m     76\u001b[0m         \u001b[0mnumber_iterations\u001b[0m\u001b[0;34m.\u001b[0m\u001b[0mappend\u001b[0m\u001b[0;34m(\u001b[0m\u001b[0mlen\u001b[0m\u001b[0;34m(\u001b[0m\u001b[0merrors\u001b[0m\u001b[0;34m)\u001b[0m\u001b[0;34m)\u001b[0m\u001b[0;34m\u001b[0m\u001b[0;34m\u001b[0m\u001b[0m\n",
      "\u001b[0;32m~/Documents/EPFL/MC/MC-project/utilities.py\u001b[0m in \u001b[0;36mget_simulation_annealing_losses\u001b[0;34m(iterations, beta, m, d, change_beta_every, update_beta)\u001b[0m\n\u001b[1;32m    118\u001b[0m         \u001b[0mtheta1\u001b[0m\u001b[0;34m[\u001b[0m\u001b[0mpos\u001b[0m\u001b[0;34m]\u001b[0m \u001b[0;34m=\u001b[0m \u001b[0;32mnot\u001b[0m \u001b[0mtheta\u001b[0m\u001b[0;34m[\u001b[0m\u001b[0mpos\u001b[0m\u001b[0;34m]\u001b[0m  \u001b[0;31m# get new theta with only one digit changed\u001b[0m\u001b[0;34m\u001b[0m\u001b[0;34m\u001b[0m\u001b[0m\n\u001b[1;32m    119\u001b[0m \u001b[0;34m\u001b[0m\u001b[0m\n\u001b[0;32m--> 120\u001b[0;31m         \u001b[0mcomp\u001b[0m \u001b[0;34m=\u001b[0m \u001b[0mnp\u001b[0m\u001b[0;34m.\u001b[0m\u001b[0mexp\u001b[0m\u001b[0;34m(\u001b[0m\u001b[0;34m-\u001b[0m\u001b[0mbeta\u001b[0m \u001b[0;34m*\u001b[0m \u001b[0;34m(\u001b[0m\u001b[0mnoise\u001b[0m\u001b[0;34m(\u001b[0m\u001b[0mX\u001b[0m\u001b[0;34m,\u001b[0m \u001b[0my\u001b[0m\u001b[0;34m,\u001b[0m \u001b[0mtheta1\u001b[0m\u001b[0;34m)\u001b[0m \u001b[0;34m-\u001b[0m \u001b[0mnoise\u001b[0m\u001b[0;34m(\u001b[0m\u001b[0mX\u001b[0m\u001b[0;34m,\u001b[0m \u001b[0my\u001b[0m\u001b[0;34m,\u001b[0m \u001b[0mtheta\u001b[0m\u001b[0;34m)\u001b[0m\u001b[0;34m)\u001b[0m\u001b[0;34m)\u001b[0m\u001b[0;34m\u001b[0m\u001b[0;34m\u001b[0m\u001b[0m\n\u001b[0m\u001b[1;32m    121\u001b[0m         \u001b[0macceptance\u001b[0m \u001b[0;34m=\u001b[0m \u001b[0mmin\u001b[0m\u001b[0;34m(\u001b[0m\u001b[0;36m1\u001b[0m\u001b[0;34m,\u001b[0m \u001b[0mcomp\u001b[0m\u001b[0;34m)\u001b[0m\u001b[0;34m\u001b[0m\u001b[0;34m\u001b[0m\u001b[0m\n\u001b[1;32m    122\u001b[0m \u001b[0;34m\u001b[0m\u001b[0m\n",
      "\u001b[0;32m~/Documents/EPFL/MC/MC-project/utilities.py\u001b[0m in \u001b[0;36mnoise\u001b[0;34m(X, y, theta)\u001b[0m\n\u001b[1;32m      8\u001b[0m \u001b[0;32mdef\u001b[0m \u001b[0mnoise\u001b[0m\u001b[0;34m(\u001b[0m\u001b[0mX\u001b[0m\u001b[0;34m,\u001b[0m \u001b[0my\u001b[0m\u001b[0;34m,\u001b[0m \u001b[0mtheta\u001b[0m\u001b[0;34m)\u001b[0m\u001b[0;34m:\u001b[0m\u001b[0;34m\u001b[0m\u001b[0;34m\u001b[0m\u001b[0m\n\u001b[1;32m      9\u001b[0m     \u001b[0;31m# take the mean so the loss is indipendent from m\u001b[0m\u001b[0;34m\u001b[0m\u001b[0;34m\u001b[0m\u001b[0m\n\u001b[0;32m---> 10\u001b[0;31m     \u001b[0;32mreturn\u001b[0m \u001b[0;34m(\u001b[0m\u001b[0;34m(\u001b[0m\u001b[0my\u001b[0m \u001b[0;34m-\u001b[0m \u001b[0mX\u001b[0m \u001b[0;34m@\u001b[0m \u001b[0mtheta\u001b[0m\u001b[0;34m)\u001b[0m \u001b[0;34m**\u001b[0m \u001b[0;36m2\u001b[0m\u001b[0;34m)\u001b[0m\u001b[0;34m.\u001b[0m\u001b[0mmean\u001b[0m\u001b[0;34m(\u001b[0m\u001b[0;34m)\u001b[0m\u001b[0;34m\u001b[0m\u001b[0;34m\u001b[0m\u001b[0m\n\u001b[0m\u001b[1;32m     11\u001b[0m \u001b[0;34m\u001b[0m\u001b[0m\n\u001b[1;32m     12\u001b[0m \u001b[0;32mdef\u001b[0m \u001b[0mgenerate_data\u001b[0m\u001b[0;34m(\u001b[0m\u001b[0mm\u001b[0m\u001b[0;34m,\u001b[0m \u001b[0md\u001b[0m\u001b[0;34m)\u001b[0m\u001b[0;34m:\u001b[0m\u001b[0;34m\u001b[0m\u001b[0;34m\u001b[0m\u001b[0m\n",
      "\u001b[0;32m~/.local/lib/python3.10/site-packages/numpy/core/_methods.py\u001b[0m in \u001b[0;36m_mean\u001b[0;34m(a, axis, dtype, out, keepdims, where)\u001b[0m\n\u001b[1;32m    160\u001b[0m             um.clip, a, min, max, out=out, casting=casting, **kwargs)\n\u001b[1;32m    161\u001b[0m \u001b[0;34m\u001b[0m\u001b[0m\n\u001b[0;32m--> 162\u001b[0;31m \u001b[0;32mdef\u001b[0m \u001b[0m_mean\u001b[0m\u001b[0;34m(\u001b[0m\u001b[0ma\u001b[0m\u001b[0;34m,\u001b[0m \u001b[0maxis\u001b[0m\u001b[0;34m=\u001b[0m\u001b[0;32mNone\u001b[0m\u001b[0;34m,\u001b[0m \u001b[0mdtype\u001b[0m\u001b[0;34m=\u001b[0m\u001b[0;32mNone\u001b[0m\u001b[0;34m,\u001b[0m \u001b[0mout\u001b[0m\u001b[0;34m=\u001b[0m\u001b[0;32mNone\u001b[0m\u001b[0;34m,\u001b[0m \u001b[0mkeepdims\u001b[0m\u001b[0;34m=\u001b[0m\u001b[0;32mFalse\u001b[0m\u001b[0;34m,\u001b[0m \u001b[0;34m*\u001b[0m\u001b[0;34m,\u001b[0m \u001b[0mwhere\u001b[0m\u001b[0;34m=\u001b[0m\u001b[0;32mTrue\u001b[0m\u001b[0;34m)\u001b[0m\u001b[0;34m:\u001b[0m\u001b[0;34m\u001b[0m\u001b[0;34m\u001b[0m\u001b[0m\n\u001b[0m\u001b[1;32m    163\u001b[0m     \u001b[0marr\u001b[0m \u001b[0;34m=\u001b[0m \u001b[0masanyarray\u001b[0m\u001b[0;34m(\u001b[0m\u001b[0ma\u001b[0m\u001b[0;34m)\u001b[0m\u001b[0;34m\u001b[0m\u001b[0;34m\u001b[0m\u001b[0m\n\u001b[1;32m    164\u001b[0m \u001b[0;34m\u001b[0m\u001b[0m\n",
      "\u001b[0;31mKeyboardInterrupt\u001b[0m: "
     ]
    }
   ],
   "source": [
    "# very wide space to search on\n",
    "\n",
    "best_mse = math.inf\n",
    "best_n_iterations = math.inf\n",
    "best_params = None\n",
    "\n",
    "repeat_experiment_n = 1\n",
    "for beta_start in [100, 500, 1000]: \n",
    "    for increse_every in [10, 100, 1000, 2000]: \n",
    "        for multiplicative_increase in [1.001, 1.01, 1.1, 1.2]:\n",
    "            mse, required_iterations = run_multiple_experiments(repeat_experiment_n, get_simulation_annealing_losses, iterations, beta_start, m, d, increse_every, lambda x : x * multiplicative_increase)\n",
    "            if mse <= best_mse and required_iterations <= best_n_iterations: \n",
    "                best_mse = mse\n",
    "                best_n_iterations = required_iterations\n",
    "                best_params_and_scores = {'beta_start': beta_start, 'increase_every': increse_every, 'multiplicative_increase' : multiplicative_increase}\n",
    "\n",
    "print(best_mse, best_n_iterations)\n",
    "print(best_params_and_scores)"
   ]
  },
  {
   "cell_type": "code",
   "execution_count": 6,
   "metadata": {
    "tags": []
   },
   "outputs": [
    {
     "data": {
      "image/png": "[encoded data removed]",
      "text/plain": [
       "<Figure size 432x288 with 1 Axes>"
      ]
     },
     "metadata": {
      "needs_background": "light"
     },
     "output_type": "display_data"
    }
   ],
   "source": [
    "\n",
    "# for different values of beta computes the losses of the samples as we moove through the chain\n",
    "\n",
    "plt.plot(get_sampling_losses(1000000, 20, m, d), label = 'beta=100')\n",
    "# plt.plot(get_sampling_losses(iterations, 1000, m, d), label = 'beta=1000')\n",
    "# plt.plot(get_sampling_losses(iterations, 10000, m, d), label = 'beta=10000')\n",
    "# plt.plot(get_sampling_losses(iterations, 50000, m, d), label = 'beta=50000')\n",
    "# plt.plot(get_sampling_losses(iterations, 100000, m, d), label = 'beta=100000')\n",
    "# plt.plot(get_sampling_losses(iterations, 1000000, m, d), label = 'beta=1000000')\n",
    "\n",
    "\n",
    "plt.legend()\n",
    "plt.ylabel('MSE')\n",
    "plt.xlabel('Iterations')\n",
    "plt.title('MSE for different values of beta')\n",
    "plt.tight_layout()\n",
    "\n",
    "plt.savefig('MSE_diferent_beta.jpg')\n",
    "plt.show()"
   ]
  },
  {
   "cell_type": "code",
   "execution_count": 117,
   "metadata": {
    "tags": []
   },
   "outputs": [
    {
     "name": "stderr",
     "output_type": "stream",
     "text": [
      "/home/stefano/Documents/EPFL/projects/MC_project/utilities.py:176: RuntimeWarning: overflow encountered in exp\n",
      "  # early stopping\n"
     ]
    },
    {
     "data": {
      "image/png": "[encoded data removed]",
      "text/plain": [
       "<Figure size 640x480 with 1 Axes>"
      ]
     },
     "metadata": {},
     "output_type": "display_data"
    }
   ],
   "source": [
    "# different strategies of simulation annealing (linear, geometric..)\n",
    "# test simulation annealing\n",
    "plt.plot(get_simulation_annealing_losses(1000, 10000, m, d, math.floor(iterations/20), lambda x : x * 1.1), label='1.3 (10000)')\n",
    "# plt.plot(get_simulation_annealing_losses(iterations, 1000, m, d, math.floor(iterations/20), lambda x : x * 1.1), label='1.1')\n",
    "# plt.plot(get_simulation_annealing_losses(iterations, 1000, m, d, math.floor(iterations/20), lambda x : x * 1.3), label='1.3')\n",
    "# plt.plot(get_simulation_annealing_losses(iterations, 1000, m, d, math.floor(iterations/20), lambda x : x * 1.5), label='1.5')\n",
    "# plt.plot(get_simulation_annealing_losses(iterations, 100, m, d, math.floor(iterations/20), lambda x : x * 1.5), label='1.5 (100)')\n",
    "\n",
    "plt.ylabel('MSE')\n",
    "plt.xlabel('Iterations')\n",
    "plt.title('MSE of simulation annealing at different iterations')\n",
    "plt.tight_layout()\n",
    "plt.legend()\n",
    "\n",
    "plt.savefig('MSE_simulation_annealing.jpg')"
   ]
  },
  {
   "cell_type": "code",
   "execution_count": 74,
   "metadata": {
    "tags": []
   },
   "outputs": [
    {
     "name": "stdout",
     "output_type": "stream",
     "text": [
      "running MC for m=250\r"
     ]
    },
    {
     "name": "stderr",
     "output_type": "stream",
     "text": [
      "/home/stefano/Documents/EPFL/MC/MC-project/utilities.py:90: RuntimeWarning: overflow encountered in exp\n",
      "  comp = np.exp(-beta * (noise(X, y, theta1) - noise(X, y, theta)))\n",
      "/home/stefano/.local/lib/python3.10/site-packages/numpy/core/fromnumeric.py:3474: RuntimeWarning: Mean of empty slice.\n",
      "  return _methods._mean(a, axis=axis, dtype=dtype,\n",
      "/home/stefano/.local/lib/python3.10/site-packages/numpy/core/_methods.py:189: RuntimeWarning: invalid value encountered in double_scalars\n",
      "  ret = ret.dtype.type(ret / rcount)\n"
     ]
    },
    {
     "name": "stdout",
     "output_type": "stream",
     "text": [
      "nan\n",
      "nanning MC for m=500\n",
      "running MC for m=750\r"
     ]
    },
    {
     "ename": "KeyboardInterrupt",
     "evalue": "",
     "output_type": "error",
     "traceback": [
      "\u001b[0;31m---------------------------------------------------------------------------\u001b[0m",
      "\u001b[0;31mKeyboardInterrupt\u001b[0m                         Traceback (most recent call last)",
      "\u001b[0;32m/tmp/ipykernel_17003/3029207291.py\u001b[0m in \u001b[0;36m<module>\u001b[0;34m\u001b[0m\n\u001b[1;32m      9\u001b[0m     \u001b[0;31m# for the different values of m only save the last loss (after doing all the iterations)\u001b[0m\u001b[0;34m\u001b[0m\u001b[0;34m\u001b[0m\u001b[0m\n\u001b[1;32m     10\u001b[0m     \u001b[0mprint\u001b[0m\u001b[0;34m(\u001b[0m\u001b[0;34mf'running MC for m={m_value}'\u001b[0m\u001b[0;34m,\u001b[0m \u001b[0mend\u001b[0m\u001b[0;34m=\u001b[0m\u001b[0;34m'\\r'\u001b[0m\u001b[0;34m)\u001b[0m\u001b[0;34m\u001b[0m\u001b[0;34m\u001b[0m\u001b[0m\n\u001b[0;32m---> 11\u001b[0;31m     \u001b[0mmse\u001b[0m\u001b[0;34m,\u001b[0m \u001b[0mn_iterations\u001b[0m \u001b[0;34m=\u001b[0m \u001b[0mrun_multiple_experiments\u001b[0m\u001b[0;34m(\u001b[0m\u001b[0;36m15\u001b[0m\u001b[0;34m,\u001b[0m \u001b[0mget_sampling_losses\u001b[0m\u001b[0;34m,\u001b[0m \u001b[0miterations\u001b[0m\u001b[0;34m,\u001b[0m \u001b[0;36m10000\u001b[0m\u001b[0;34m,\u001b[0m \u001b[0mm_value\u001b[0m\u001b[0;34m,\u001b[0m \u001b[0md\u001b[0m\u001b[0;34m)\u001b[0m\u001b[0;34m\u001b[0m\u001b[0;34m\u001b[0m\u001b[0m\n\u001b[0m\u001b[1;32m     12\u001b[0m     \u001b[0mprint\u001b[0m\u001b[0;34m(\u001b[0m\u001b[0mn_iterations\u001b[0m\u001b[0;34m)\u001b[0m\u001b[0;34m\u001b[0m\u001b[0;34m\u001b[0m\u001b[0m\n\u001b[1;32m     13\u001b[0m     \u001b[0mlosses_with_different_m\u001b[0m\u001b[0;34m.\u001b[0m\u001b[0mappend\u001b[0m\u001b[0;34m(\u001b[0m\u001b[0mmse\u001b[0m\u001b[0;34m)\u001b[0m\u001b[0;34m\u001b[0m\u001b[0;34m\u001b[0m\u001b[0m\n",
      "\u001b[0;32m~/Documents/EPFL/MC/MC-project/utilities.py\u001b[0m in \u001b[0;36mrun_multiple_experiments\u001b[0;34m(repeat_n_times, get_samples, *args)\u001b[0m\n\u001b[1;32m     72\u001b[0m \u001b[0;34m\u001b[0m\u001b[0m\n\u001b[1;32m     73\u001b[0m     \u001b[0;32mfor\u001b[0m \u001b[0mi\u001b[0m \u001b[0;32min\u001b[0m \u001b[0mrange\u001b[0m\u001b[0;34m(\u001b[0m\u001b[0mrepeat_n_times\u001b[0m\u001b[0;34m)\u001b[0m\u001b[0;34m:\u001b[0m\u001b[0;34m\u001b[0m\u001b[0;34m\u001b[0m\u001b[0m\n\u001b[0;32m---> 74\u001b[0;31m         \u001b[0merrors\u001b[0m \u001b[0;34m=\u001b[0m \u001b[0mget_samples\u001b[0m\u001b[0;34m(\u001b[0m\u001b[0;34m*\u001b[0m\u001b[0margs\u001b[0m\u001b[0;34m)\u001b[0m\u001b[0;34m[\u001b[0m\u001b[0;34m-\u001b[0m\u001b[0;36m1\u001b[0m\u001b[0;34m]\u001b[0m\u001b[0;34m\u001b[0m\u001b[0;34m\u001b[0m\u001b[0m\n\u001b[0m\u001b[1;32m     75\u001b[0m         \u001b[0mlist_errors\u001b[0m\u001b[0;34m.\u001b[0m\u001b[0mappend\u001b[0m\u001b[0;34m(\u001b[0m\u001b[0merrors\u001b[0m\u001b[0;34m)\u001b[0m\u001b[0;34m\u001b[0m\u001b[0;34m\u001b[0m\u001b[0m\n\u001b[1;32m     76\u001b[0m         \u001b[0mnumber_iterations\u001b[0m\u001b[0;34m.\u001b[0m\u001b[0mappend\u001b[0m\u001b[0;34m(\u001b[0m\u001b[0merrors\u001b[0m\u001b[0;34m.\u001b[0m\u001b[0mshape\u001b[0m\u001b[0;34m)\u001b[0m\u001b[0;34m\u001b[0m\u001b[0;34m\u001b[0m\u001b[0m\n",
      "\u001b[0;32m~/Documents/EPFL/MC/MC-project/utilities.py\u001b[0m in \u001b[0;36mget_sampling_losses\u001b[0;34m(iterations, beta, m, d)\u001b[0m\n\u001b[1;32m     88\u001b[0m         \u001b[0mtheta1\u001b[0m\u001b[0;34m[\u001b[0m\u001b[0mpos\u001b[0m\u001b[0;34m]\u001b[0m \u001b[0;34m=\u001b[0m \u001b[0;32mnot\u001b[0m \u001b[0mtheta\u001b[0m\u001b[0;34m[\u001b[0m\u001b[0mpos\u001b[0m\u001b[0;34m]\u001b[0m  \u001b[0;31m# get new theta with only one digit changed\u001b[0m\u001b[0;34m\u001b[0m\u001b[0;34m\u001b[0m\u001b[0m\n\u001b[1;32m     89\u001b[0m \u001b[0;34m\u001b[0m\u001b[0m\n\u001b[0;32m---> 90\u001b[0;31m         \u001b[0mcomp\u001b[0m \u001b[0;34m=\u001b[0m \u001b[0mnp\u001b[0m\u001b[0;34m.\u001b[0m\u001b[0mexp\u001b[0m\u001b[0;34m(\u001b[0m\u001b[0;34m-\u001b[0m\u001b[0mbeta\u001b[0m \u001b[0;34m*\u001b[0m \u001b[0;34m(\u001b[0m\u001b[0mnoise\u001b[0m\u001b[0;34m(\u001b[0m\u001b[0mX\u001b[0m\u001b[0;34m,\u001b[0m \u001b[0my\u001b[0m\u001b[0;34m,\u001b[0m \u001b[0mtheta1\u001b[0m\u001b[0;34m)\u001b[0m \u001b[0;34m-\u001b[0m \u001b[0mnoise\u001b[0m\u001b[0;34m(\u001b[0m\u001b[0mX\u001b[0m\u001b[0;34m,\u001b[0m \u001b[0my\u001b[0m\u001b[0;34m,\u001b[0m \u001b[0mtheta\u001b[0m\u001b[0;34m)\u001b[0m\u001b[0;34m)\u001b[0m\u001b[0;34m)\u001b[0m\u001b[0;34m\u001b[0m\u001b[0;34m\u001b[0m\u001b[0m\n\u001b[0m\u001b[1;32m     91\u001b[0m         \u001b[0macceptance\u001b[0m \u001b[0;34m=\u001b[0m \u001b[0mmin\u001b[0m\u001b[0;34m(\u001b[0m\u001b[0;36m1\u001b[0m\u001b[0;34m,\u001b[0m \u001b[0mcomp\u001b[0m\u001b[0;34m)\u001b[0m\u001b[0;34m\u001b[0m\u001b[0;34m\u001b[0m\u001b[0m\n\u001b[1;32m     92\u001b[0m \u001b[0;34m\u001b[0m\u001b[0m\n",
      "\u001b[0;32m~/Documents/EPFL/MC/MC-project/utilities.py\u001b[0m in \u001b[0;36mnoise\u001b[0;34m(X, y, theta)\u001b[0m\n\u001b[1;32m      8\u001b[0m \u001b[0;32mdef\u001b[0m \u001b[0mnoise\u001b[0m\u001b[0;34m(\u001b[0m\u001b[0mX\u001b[0m\u001b[0;34m,\u001b[0m \u001b[0my\u001b[0m\u001b[0;34m,\u001b[0m \u001b[0mtheta\u001b[0m\u001b[0;34m)\u001b[0m\u001b[0;34m:\u001b[0m\u001b[0;34m\u001b[0m\u001b[0;34m\u001b[0m\u001b[0m\n\u001b[1;32m      9\u001b[0m     \u001b[0;31m# take the mean so the loss is indipendent from m\u001b[0m\u001b[0;34m\u001b[0m\u001b[0;34m\u001b[0m\u001b[0m\n\u001b[0;32m---> 10\u001b[0;31m     \u001b[0;32mreturn\u001b[0m \u001b[0;34m(\u001b[0m\u001b[0;34m(\u001b[0m\u001b[0my\u001b[0m \u001b[0;34m-\u001b[0m \u001b[0mX\u001b[0m \u001b[0;34m@\u001b[0m \u001b[0mtheta\u001b[0m\u001b[0;34m)\u001b[0m \u001b[0;34m**\u001b[0m \u001b[0;36m2\u001b[0m\u001b[0;34m)\u001b[0m\u001b[0;34m.\u001b[0m\u001b[0mmean\u001b[0m\u001b[0;34m(\u001b[0m\u001b[0;34m)\u001b[0m\u001b[0;34m\u001b[0m\u001b[0;34m\u001b[0m\u001b[0m\n\u001b[0m\u001b[1;32m     11\u001b[0m \u001b[0;34m\u001b[0m\u001b[0m\n\u001b[1;32m     12\u001b[0m \u001b[0;32mdef\u001b[0m \u001b[0mgenerate_data\u001b[0m\u001b[0;34m(\u001b[0m\u001b[0mm\u001b[0m\u001b[0;34m,\u001b[0m \u001b[0md\u001b[0m\u001b[0;34m)\u001b[0m\u001b[0;34m:\u001b[0m\u001b[0;34m\u001b[0m\u001b[0;34m\u001b[0m\u001b[0m\n",
      "\u001b[0;32m~/.local/lib/python3.10/site-packages/numpy/core/_methods.py\u001b[0m in \u001b[0;36m_mean\u001b[0;34m(a, axis, dtype, out, keepdims, where)\u001b[0m\n\u001b[1;32m    160\u001b[0m             um.clip, a, min, max, out=out, casting=casting, **kwargs)\n\u001b[1;32m    161\u001b[0m \u001b[0;34m\u001b[0m\u001b[0m\n\u001b[0;32m--> 162\u001b[0;31m \u001b[0;32mdef\u001b[0m \u001b[0m_mean\u001b[0m\u001b[0;34m(\u001b[0m\u001b[0ma\u001b[0m\u001b[0;34m,\u001b[0m \u001b[0maxis\u001b[0m\u001b[0;34m=\u001b[0m\u001b[0;32mNone\u001b[0m\u001b[0;34m,\u001b[0m \u001b[0mdtype\u001b[0m\u001b[0;34m=\u001b[0m\u001b[0;32mNone\u001b[0m\u001b[0;34m,\u001b[0m \u001b[0mout\u001b[0m\u001b[0;34m=\u001b[0m\u001b[0;32mNone\u001b[0m\u001b[0;34m,\u001b[0m \u001b[0mkeepdims\u001b[0m\u001b[0;34m=\u001b[0m\u001b[0;32mFalse\u001b[0m\u001b[0;34m,\u001b[0m \u001b[0;34m*\u001b[0m\u001b[0;34m,\u001b[0m \u001b[0mwhere\u001b[0m\u001b[0;34m=\u001b[0m\u001b[0;32mTrue\u001b[0m\u001b[0;34m)\u001b[0m\u001b[0;34m:\u001b[0m\u001b[0;34m\u001b[0m\u001b[0;34m\u001b[0m\u001b[0m\n\u001b[0m\u001b[1;32m    163\u001b[0m     \u001b[0marr\u001b[0m \u001b[0;34m=\u001b[0m \u001b[0masanyarray\u001b[0m\u001b[0;34m(\u001b[0m\u001b[0ma\u001b[0m\u001b[0;34m)\u001b[0m\u001b[0;34m\u001b[0m\u001b[0;34m\u001b[0m\u001b[0m\n\u001b[1;32m    164\u001b[0m \u001b[0;34m\u001b[0m\u001b[0m\n",
      "\u001b[0;31mKeyboardInterrupt\u001b[0m: "
     ]
    }
   ],
   "source": [
    "# TODO rerurn with full iterations\n",
    "# don't rerun as it will take a while\n",
    "\n",
    "# increase the number of samples (m) to find minimum number of samples to \n",
    "losses_with_different_m = []\n",
    "m_values = np.arange(250,2000, 250)\n",
    "\n",
    "for m_value in  m_values: \n",
    "    # for the different values of m only save the last loss (after doing all the iterations)\n",
    "    print(f'running MC for m={m_value}', end='\\r')\n",
    "    mse, n_iterations = run_multiple_experiments(15, get_sampling_losses, iterations, 10000, m_value, d)\n",
    "    print(n_iterations)\n",
    "    losses_with_different_m.append(mse)\n",
    "\n",
    "\n",
    "plt.plot(m_values, losses_with_different_m) # always changes\n",
    "plt.ylabel('MSE')\n",
    "plt.xlabel('Number of samples over dimensions (m/d)')\n",
    "plt.title('MSE with different number of samples m')\n",
    "plt.tight_layout()\n",
    "\n",
    "plt.savefig('q1_ex6_minimum_m_to_recover.jpg')\n"
   ]
  },
  {
   "cell_type": "markdown",
   "metadata": {},
   "source": [
    "# Qeustions 2 "
   ]
  },
  {
   "cell_type": "code",
   "execution_count": 135,
   "metadata": {},
   "outputs": [
    {
     "name": "stdout",
     "output_type": "stream",
     "text": [
      "41.40700426615364\n",
      "41.40700426615365\n",
      "40.86903381537269\n",
      "40.86903381537269\n",
      "40.94651754808336\n",
      "40.94651754808336\n",
      "41.10714534413877\n",
      "41.10714534413877\n",
      "41.959623867731175\n",
      "41.959623867731175\n",
      "41.96421944466128\n",
      "41.96421944466128\n",
      "42.61954599207279\n",
      "42.61954599207279\n",
      "41.85290652596423\n",
      "41.85290652596423\n",
      "42.37290922994213\n",
      "42.37290922994213\n",
      "41.94182069085456\n",
      "41.94182069085456\n"
     ]
    }
   ],
   "source": [
    "X, y, theta_true, theta = generate_data_fixed_ones(m, d, s)\n",
    "noise_comp = NoiseComputer(X, y, theta)\n",
    "errors = []\n",
    "\n",
    "for _ in range(10): \n",
    "    \n",
    "    theta1 = theta.copy()\n",
    "    \n",
    "    zeros_indices = np.where(theta == 0)[0]\n",
    "    ones_indices = np.where(theta == 1)[0]\n",
    "    pos_zero = np.random.choice(zeros_indices)\n",
    "    pos_one = np.random.choice(ones_indices)\n",
    "    \n",
    "    # switch position between one 1 and one 0\n",
    "    theta1[pos_zero] = 1\n",
    "    theta1[pos_one] = 0\n",
    "\n",
    "    residual, old_noise = noise_comp.compute_noise_fixed_ones(theta)\n",
    "    residual, new_noise = noise_comp.compute_noise_fixed_ones(theta1) \n",
    "\n",
    "    print(noise(X, y, theta1)) \n",
    "    print(new_noise)\n",
    "    \n",
    "    comp = np.exp(-beta * (new_noise - old_noise))\n",
    "    acceptance = min(1, comp)\n",
    "\n",
    "    # change state with acceptance probability\n",
    "    if np.random.rand(1)[0] < acceptance : \n",
    "        noise_comp.update_theta_residual(theta1, residual)\n",
    "        theta = theta1\n",
    "\n",
    "    # compute error\n",
    "    mse_val = ((theta-theta_true)**2).sum()*(1/(2*s))\n",
    "    errors.append(mse_val)\n",
    "\n",
    "    # early stopping\n",
    "    if mse_val == 0: \n",
    "        break"
   ]
  },
  {
   "cell_type": "code",
   "execution_count": 142,
   "metadata": {},
   "outputs": [
    {
     "name": "stderr",
     "output_type": "stream",
     "text": [
      "/home/stefano/Documents/EPFL/projects/MC_project/utilities.py:221: RuntimeWarning: overflow encountered in exp\n",
      "  residual, new_noise = noise_comp.compute_noise_fixed_ones(theta1)\n"
     ]
    },
    {
     "data": {
      "image/png": "[encoded data removed]",
      "text/plain": [
       "<Figure size 640x480 with 1 Axes>"
      ]
     },
     "metadata": {},
     "output_type": "display_data"
    }
   ],
   "source": [
    "plt.plot(get_sampling_losses_fixed_ones(10000, 10000, 1000, d, s))\n",
    "plt.ylabel('MSE')\n",
    "plt.xlabel('Iterations')\n",
    "plt.tight_layout()\n",
    "\n",
    "plt.savefig('MSE_fixed_ones.jpg')"
   ]
  },
  {
   "cell_type": "code",
   "execution_count": 5,
   "metadata": {
    "tags": []
   },
   "outputs": [
    {
     "name": "stdout",
     "output_type": "stream",
     "text": [
      "running MC for m=1000\r"
     ]
    },
    {
     "ename": "KeyboardInterrupt",
     "evalue": "",
     "output_type": "error",
     "traceback": [
      "\u001b[0;31m---------------------------------------------------------------------------\u001b[0m",
      "\u001b[0;31mKeyboardInterrupt\u001b[0m                         Traceback (most recent call last)",
      "\u001b[1;32m/home/stefano/Documents/EPFL/projects/MC_project/main.ipynb Cell 9\u001b[0m line \u001b[0;36m5\n\u001b[1;32m      <a href='vscode-notebook-cell:/home/stefano/Documents/EPFL/projects/MC_project/main.ipynb#X16sZmlsZQ%3D%3D?line=2'>3</a>\u001b[0m \u001b[39mfor\u001b[39;00m m_value \u001b[39min\u001b[39;00m  [\u001b[39m1000\u001b[39m, \u001b[39m2000\u001b[39m]: \n\u001b[1;32m      <a href='vscode-notebook-cell:/home/stefano/Documents/EPFL/projects/MC_project/main.ipynb#X16sZmlsZQ%3D%3D?line=3'>4</a>\u001b[0m     \u001b[39mprint\u001b[39m(\u001b[39mf\u001b[39m\u001b[39m'\u001b[39m\u001b[39mrunning MC for m=\u001b[39m\u001b[39m{\u001b[39;00mm_value\u001b[39m}\u001b[39;00m\u001b[39m'\u001b[39m, end\u001b[39m=\u001b[39m\u001b[39m'\u001b[39m\u001b[39m\\r\u001b[39;00m\u001b[39m'\u001b[39m)\n\u001b[0;32m----> <a href='vscode-notebook-cell:/home/stefano/Documents/EPFL/projects/MC_project/main.ipynb#X16sZmlsZQ%3D%3D?line=4'>5</a>\u001b[0m     losses_with_different_m1\u001b[39m.\u001b[39mappend(get_sampling_losses_fixed_ones(iterations, \u001b[39m0.1\u001b[39;49m, m_value, d, s)[\u001b[39m-\u001b[39m\u001b[39m1\u001b[39m])\n\u001b[1;32m      <a href='vscode-notebook-cell:/home/stefano/Documents/EPFL/projects/MC_project/main.ipynb#X16sZmlsZQ%3D%3D?line=6'>7</a>\u001b[0m plt\u001b[39m.\u001b[39mplot(m_values , losses_with_different_m1) \n\u001b[1;32m      <a href='vscode-notebook-cell:/home/stefano/Documents/EPFL/projects/MC_project/main.ipynb#X16sZmlsZQ%3D%3D?line=8'>9</a>\u001b[0m plt\u001b[39m.\u001b[39mylabel(\u001b[39m'\u001b[39m\u001b[39mMSE\u001b[39m\u001b[39m'\u001b[39m)\n",
      "File \u001b[0;32m~/Documents/EPFL/projects/MC_project/utilities.py:95\u001b[0m, in \u001b[0;36mget_sampling_losses_fixed_ones\u001b[0;34m(iterations, beta, m, d, s)\u001b[0m\n\u001b[1;32m     92\u001b[0m theta1[pos_zero] \u001b[39m=\u001b[39m \u001b[39m1\u001b[39m\n\u001b[1;32m     93\u001b[0m theta1[pos_one] \u001b[39m=\u001b[39m \u001b[39m0\u001b[39m\n\u001b[0;32m---> 95\u001b[0m comp \u001b[39m=\u001b[39m np\u001b[39m.\u001b[39mexp(\u001b[39m-\u001b[39mbeta \u001b[39m*\u001b[39m (noise(X, y, theta1) \u001b[39m-\u001b[39m noise(X, y, theta)))\n\u001b[1;32m     96\u001b[0m acceptance \u001b[39m=\u001b[39m \u001b[39mmin\u001b[39m(\u001b[39m1\u001b[39m, comp)\n\u001b[1;32m     98\u001b[0m \u001b[39m# change state with acceptance probability\u001b[39;00m\n",
      "File \u001b[0;32m~/Documents/EPFL/projects/MC_project/utilities.py:9\u001b[0m, in \u001b[0;36mnoise\u001b[0;34m(X, y, theta)\u001b[0m\n\u001b[1;32m      8\u001b[0m \u001b[39mdef\u001b[39;00m \u001b[39mnoise\u001b[39m(X, y, theta): \n\u001b[0;32m----> 9\u001b[0m     \u001b[39mreturn\u001b[39;00m ((y \u001b[39m-\u001b[39;49m X \u001b[39m@\u001b[39;49m theta) \u001b[39m*\u001b[39;49m\u001b[39m*\u001b[39;49m \u001b[39m2\u001b[39;49m)\u001b[39m.\u001b[39;49msum()\n",
      "File \u001b[0;32m~/.local/lib/python3.10/site-packages/numpy/core/_methods.py:47\u001b[0m, in \u001b[0;36m_sum\u001b[0;34m(a, axis, dtype, out, keepdims, initial, where)\u001b[0m\n\u001b[1;32m     43\u001b[0m \u001b[39mdef\u001b[39;00m \u001b[39m_amin\u001b[39m(a, axis\u001b[39m=\u001b[39m\u001b[39mNone\u001b[39;00m, out\u001b[39m=\u001b[39m\u001b[39mNone\u001b[39;00m, keepdims\u001b[39m=\u001b[39m\u001b[39mFalse\u001b[39;00m,\n\u001b[1;32m     44\u001b[0m           initial\u001b[39m=\u001b[39m_NoValue, where\u001b[39m=\u001b[39m\u001b[39mTrue\u001b[39;00m):\n\u001b[1;32m     45\u001b[0m     \u001b[39mreturn\u001b[39;00m umr_minimum(a, axis, \u001b[39mNone\u001b[39;00m, out, keepdims, initial, where)\n\u001b[0;32m---> 47\u001b[0m \u001b[39mdef\u001b[39;00m \u001b[39m_sum\u001b[39m(a, axis\u001b[39m=\u001b[39m\u001b[39mNone\u001b[39;00m, dtype\u001b[39m=\u001b[39m\u001b[39mNone\u001b[39;00m, out\u001b[39m=\u001b[39m\u001b[39mNone\u001b[39;00m, keepdims\u001b[39m=\u001b[39m\u001b[39mFalse\u001b[39;00m,\n\u001b[1;32m     48\u001b[0m          initial\u001b[39m=\u001b[39m_NoValue, where\u001b[39m=\u001b[39m\u001b[39mTrue\u001b[39;00m):\n\u001b[1;32m     49\u001b[0m     \u001b[39mreturn\u001b[39;00m umr_sum(a, axis, dtype, out, keepdims, initial, where)\n\u001b[1;32m     51\u001b[0m \u001b[39mdef\u001b[39;00m \u001b[39m_prod\u001b[39m(a, axis\u001b[39m=\u001b[39m\u001b[39mNone\u001b[39;00m, dtype\u001b[39m=\u001b[39m\u001b[39mNone\u001b[39;00m, out\u001b[39m=\u001b[39m\u001b[39mNone\u001b[39;00m, keepdims\u001b[39m=\u001b[39m\u001b[39mFalse\u001b[39;00m,\n\u001b[1;32m     52\u001b[0m           initial\u001b[39m=\u001b[39m_NoValue, where\u001b[39m=\u001b[39m\u001b[39mTrue\u001b[39;00m):\n",
      "\u001b[0;31mKeyboardInterrupt\u001b[0m: "
     ]
    }
   ],
   "source": [
    "# run multiple times and take the average\n",
    "\n",
    "losses_with_different_m1 = []\n",
    "m_values = np.arange(10, 250, 10)\n",
    "for m_value in  m_values: \n",
    "    print(f'running MC for m={m_value}', end='\\r')\n",
    "    losses_with_different_m1.append(get_sampling_losses_fixed_ones(iterations, 0.1, m_value, d, s)[-1])\n",
    "\n",
    "plt.plot(m_values , losses_with_different_m1) \n",
    "\n",
    "plt.ylabel('MSE')\n",
    "plt.xlabel('Number of samples over dimensions (m/d)')\n",
    "plt.title('MSE with different number of samples m')\n",
    "plt.tight_layout()\n",
    "\n",
    "plt.savefig('q2_ex6_minimum_m_to_recover.jpg')"
   ]
  },
  {
   "cell_type": "markdown",
   "metadata": {},
   "source": [
    "# Question 3"
   ]
  },
  {
   "cell_type": "code",
   "execution_count": 5,
   "metadata": {},
   "outputs": [],
   "source": [
    "class NoiseComputer1: \n",
    "    def __init__(self, X, y, theta): \n",
    "        self.X = X\n",
    "        self.y = y\n",
    "        self.theta = theta\n",
    "        self.residual = X @ theta\n",
    "\n",
    "        self.min_one_indices = np.where(y == -1)[0]\n",
    "        self.ones_indices = np.where(y == 1)[0]\n",
    "    \n",
    "    def compute_noise_fixed_ones(self, new_theta): \n",
    "        \n",
    "        if (self.theta == new_theta).all(): \n",
    "            return self.residual, self.loss(self.residual)\n",
    "\n",
    "        # element that became 0 will have -1 the one that became one will have +1 \n",
    "        difference =    new_theta - self.theta\n",
    "        indices = np.nonzero(difference)[0]\n",
    "\n",
    "        column0 = self.X[:, indices[0]] * difference[indices[0]]\n",
    "        column1 = self.X[:, indices[1]] * difference[indices[1]]\n",
    "        new_residual = self.residual + np.squeeze(column0) +  np.squeeze(column1) \n",
    "\n",
    "        return new_residual, self.loss(new_residual)\n",
    "\n",
    "    def loss(self, residual): \n",
    "        #print('inputt', X @ theta)\n",
    "        alpha = norm.cdf((residual) / 1)\n",
    "        #print('alpha', alpha)\n",
    "        return -(np.log(alpha[self.ones_indices]).sum() + np.log(1 - alpha[self.min_one_indices]).sum())\n",
    "        \n",
    "    def update_theta_residual(self, theta, residual): \n",
    "        self.theta = theta\n",
    "        self.residual = residual\n",
    "\n",
    "\n",
    "def log_likelihood(X, y, theta): \n",
    "    \n",
    "    min_one_indices = np.where(y == -1)[0]\n",
    "    ones_indices = np.where(y == 1)[0]\n",
    "    \n",
    "    #print('inputt', X @ theta)\n",
    "    alpha = norm.cdf((X @ theta) / 1)\n",
    "    #print('alpha', alpha)\n",
    "    return -(np.log(alpha[ones_indices]).sum() + np.log(1 - alpha[min_one_indices]).sum())"
   ]
  },
  {
   "cell_type": "code",
   "execution_count": 6,
   "metadata": {},
   "outputs": [
    {
     "name": "stdout",
     "output_type": "stream",
     "text": [
      "189.14353041591966 189.14353041591966\n",
      "171.31044267470187 171.31044267470187\n",
      "171.31044267470187 171.31044267470187\n",
      "138.71015854404357 138.71015854404357\n",
      "138.71015854404357 138.71015854404357\n",
      "148.74910114667398 148.74910114667398\n",
      "138.71015854404357 138.71015854404357\n",
      "196.7148054105137 196.7148054105137\n",
      "138.71015854404357 138.71015854404357\n",
      "176.32558127002562 176.32558127002562\n",
      "138.71015854404357 138.71015854404357\n",
      "156.86038431880795 156.86038431880797\n",
      "138.71015854404357 138.71015854404357\n",
      "161.75707158804863 161.75707158804863\n",
      "138.71015854404357 138.71015854404357\n",
      "168.02884107250384 168.02884107250384\n",
      "138.71015854404357 138.71015854404357\n",
      "176.9402109642976 176.9402109642976\n",
      "138.71015854404357 138.71015854404357\n",
      "166.34395151718695 166.34395151718695\n"
     ]
    },
    {
     "data": {
      "text/plain": [
       "[<matplotlib.lines.Line2D at 0x7f0ffcb55f60>]"
      ]
     },
     "execution_count": 6,
     "metadata": {},
     "output_type": "execute_result"
    },
    {
     "data": {
      "image/png": "[encoded data removed]",
      "text/plain": [
       "<Figure size 432x288 with 1 Axes>"
      ]
     },
     "metadata": {
      "needs_background": "light"
     },
     "output_type": "display_data"
    }
   ],
   "source": [
    "m3 = 100\n",
    "d3 = 500\n",
    "s3 = d3/100\n",
    "\n",
    "def get_sampling_losses_sign(iterations, beta, m, d, s):\n",
    "\n",
    "    X, y, theta_true, theta = generate_data_sign(m, d, s)\n",
    "    noise_comp = NoiseComputer1(X, y, theta)\n",
    "    errors = []\n",
    "\n",
    "    for _ in range(iterations): \n",
    "        \n",
    "        theta1 = theta.copy()\n",
    "        \n",
    "        zeros_indices = np.where(theta == 0)[0]\n",
    "        ones_indices = np.where(theta == 1)[0]\n",
    "        pos_zero = np.random.choice(zeros_indices)\n",
    "        pos_one = np.random.choice(ones_indices)\n",
    "        \n",
    "        theta1[pos_zero] = 1\n",
    "        theta1[pos_one] = 0\n",
    "\n",
    "\n",
    "        residual, old_noise = noise_comp.compute_noise_fixed_ones(theta)\n",
    "        residual, new_noise = noise_comp.compute_noise_fixed_ones(theta1) \n",
    "\n",
    "        print(log_likelihood(X, y, theta), old_noise)\n",
    "        print(log_likelihood(X, y, theta1), new_noise)\n",
    "\n",
    "\n",
    "\n",
    "        comp = np.exp(-beta * (new_noise - old_noise))\n",
    "        acceptance = min(1, comp)\n",
    "\n",
    "        # change state with acceptance probability\n",
    "        if np.random.rand(1)[0] < acceptance : \n",
    "            noise_comp.update_theta_residual(theta1, residual)\n",
    "            theta = theta1\n",
    "\n",
    "        # compute error\n",
    "        mse_val = ((theta-theta_true)**2).sum()*(1/(2*s))\n",
    "        errors.append(mse_val)\n",
    "\n",
    "        # early stopping\n",
    "        if mse_val == 0: \n",
    "            break\n",
    "\n",
    "    return errors\n",
    "\n",
    "\n",
    "m3 = 100\n",
    "d3 = 500\n",
    "s3 = d3/100\n",
    "#beta = 2\n",
    "iterations3 = 100*d3\n",
    "\n",
    "loss = get_sampling_losses_sign(10, 1, m3, d3, s3)\n",
    "plt.plot(loss)"
   ]
  },
  {
   "cell_type": "code",
   "execution_count": null,
   "metadata": {},
   "outputs": [],
   "source": [
    "losses_with_different_m1 = []\n",
    "m_values = np.arange(1, 120, 10)\n",
    "for m_value in m_values: \n",
    "    print(f'running MC for m={m_value}', end='\\r')\n",
    "    losses_with_different_m1.append(get_sampling_losses_sign(iterations, 5, m_value, d, s)[-1])\n",
    "\n",
    "plt.plot(m_values, losses_with_different_m1) \n",
    "\n",
    "plt.ylabel('MSE')\n",
    "plt.xlabel('Number of samples over dimensions (m)')\n",
    "plt.title('MSE with different number of samples m')\n",
    "plt.tight_layout()\n",
    "\n",
    "plt.savefig('q3_ex3_minimum_m_to_recover.jpg')"
   ]
  },
  {
   "cell_type": "code",
   "execution_count": 22,
   "metadata": {},
   "outputs": [
    {
     "data": {
      "text/plain": [
       "array([ 2, 24,  6,  8])"
      ]
     },
     "execution_count": 22,
     "metadata": {},
     "output_type": "execute_result"
    }
   ],
   "source": [
    "a = np.array([1,12,3,4])\n",
    "a += a\n",
    "a"
   ]
  }
 ],
 "metadata": {
  "kernelspec": {
   "display_name": "Python 3 (ipykernel)",
   "language": "python",
   "name": "python3"
  },
  "language_info": {
   "codemirror_mode": {
    "name": "ipython",
    "version": 3
   },
   "file_extension": ".py",
   "mimetype": "text/x-python",
   "name": "python",
   "nbconvert_exporter": "python",
   "pygments_lexer": "ipython3",
   "version": "3.10.12"
  }
 },
 "nbformat": 4,
 "nbformat_minor": 4
}
